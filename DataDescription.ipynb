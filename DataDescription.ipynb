{
 "cells": [
  {
   "cell_type": "code",
   "execution_count": 1,
   "metadata": {
    "collapsed": true
   },
   "outputs": [],
   "source": [
    "import pandas as pd\n",
    "import re\n",
    "import numpy as np\n",
    "import datetime as dt"
   ]
  },
  {
   "cell_type": "code",
   "execution_count": 2,
   "metadata": {
    "collapsed": true
   },
   "outputs": [],
   "source": [
    "df = pd.read_csv('twcs.csv')\n",
    "df['created_at'] = df['created_at'].apply(lambda x:dt.datetime.strptime(x,'%a %b %d %H:%M:%S +0000 %Y'))"
   ]
  },
  {
   "cell_type": "code",
   "execution_count": 3,
   "metadata": {},
   "outputs": [
    {
     "data": {
      "text/plain": [
       "(2811774, 7)"
      ]
     },
     "execution_count": 3,
     "metadata": {},
     "output_type": "execute_result"
    }
   ],
   "source": [
    "df.shape"
   ]
  },
  {
   "cell_type": "code",
   "execution_count": 12,
   "metadata": {},
   "outputs": [
    {
     "data": {
      "text/html": [
       "<div>\n",
       "<style>\n",
       "    .dataframe thead tr:only-child th {\n",
       "        text-align: right;\n",
       "    }\n",
       "\n",
       "    .dataframe thead th {\n",
       "        text-align: left;\n",
       "    }\n",
       "\n",
       "    .dataframe tbody tr th {\n",
       "        vertical-align: top;\n",
       "    }\n",
       "</style>\n",
       "<table border=\"1\" class=\"dataframe\">\n",
       "  <thead>\n",
       "    <tr style=\"text-align: right;\">\n",
       "      <th></th>\n",
       "      <th>tweet_id</th>\n",
       "      <th>author_id</th>\n",
       "      <th>inbound</th>\n",
       "      <th>created_at</th>\n",
       "      <th>text</th>\n",
       "      <th>response_tweet_id</th>\n",
       "      <th>in_response_to_tweet_id</th>\n",
       "    </tr>\n",
       "  </thead>\n",
       "  <tbody>\n",
       "    <tr>\n",
       "      <th>0</th>\n",
       "      <td>1</td>\n",
       "      <td>sprintcare</td>\n",
       "      <td>False</td>\n",
       "      <td>Tue Oct 31 22:10:47 +0000 2017</td>\n",
       "      <td>@115712 I understand. I would like to assist y...</td>\n",
       "      <td>2</td>\n",
       "      <td>3.0</td>\n",
       "    </tr>\n",
       "    <tr>\n",
       "      <th>1</th>\n",
       "      <td>2</td>\n",
       "      <td>115712</td>\n",
       "      <td>True</td>\n",
       "      <td>Tue Oct 31 22:11:45 +0000 2017</td>\n",
       "      <td>@sprintcare and how do you propose we do that</td>\n",
       "      <td>NaN</td>\n",
       "      <td>1.0</td>\n",
       "    </tr>\n",
       "    <tr>\n",
       "      <th>2</th>\n",
       "      <td>3</td>\n",
       "      <td>115712</td>\n",
       "      <td>True</td>\n",
       "      <td>Tue Oct 31 22:08:27 +0000 2017</td>\n",
       "      <td>@sprintcare I have sent several private messag...</td>\n",
       "      <td>1</td>\n",
       "      <td>4.0</td>\n",
       "    </tr>\n",
       "    <tr>\n",
       "      <th>3</th>\n",
       "      <td>4</td>\n",
       "      <td>sprintcare</td>\n",
       "      <td>False</td>\n",
       "      <td>Tue Oct 31 21:54:49 +0000 2017</td>\n",
       "      <td>@115712 Please send us a Private Message so th...</td>\n",
       "      <td>3</td>\n",
       "      <td>5.0</td>\n",
       "    </tr>\n",
       "    <tr>\n",
       "      <th>4</th>\n",
       "      <td>5</td>\n",
       "      <td>115712</td>\n",
       "      <td>True</td>\n",
       "      <td>Tue Oct 31 21:49:35 +0000 2017</td>\n",
       "      <td>@sprintcare I did.</td>\n",
       "      <td>4</td>\n",
       "      <td>6.0</td>\n",
       "    </tr>\n",
       "    <tr>\n",
       "      <th>5</th>\n",
       "      <td>6</td>\n",
       "      <td>sprintcare</td>\n",
       "      <td>False</td>\n",
       "      <td>Tue Oct 31 21:46:24 +0000 2017</td>\n",
       "      <td>@115712 Can you please send us a private messa...</td>\n",
       "      <td>5,7</td>\n",
       "      <td>8.0</td>\n",
       "    </tr>\n",
       "    <tr>\n",
       "      <th>6</th>\n",
       "      <td>8</td>\n",
       "      <td>115712</td>\n",
       "      <td>True</td>\n",
       "      <td>Tue Oct 31 21:45:10 +0000 2017</td>\n",
       "      <td>@sprintcare is the worst customer service</td>\n",
       "      <td>9,6,10</td>\n",
       "      <td>NaN</td>\n",
       "    </tr>\n",
       "    <tr>\n",
       "      <th>7</th>\n",
       "      <td>11</td>\n",
       "      <td>sprintcare</td>\n",
       "      <td>False</td>\n",
       "      <td>Tue Oct 31 22:10:35 +0000 2017</td>\n",
       "      <td>@115713 This is saddening to hear. Please shoo...</td>\n",
       "      <td>NaN</td>\n",
       "      <td>12.0</td>\n",
       "    </tr>\n",
       "    <tr>\n",
       "      <th>8</th>\n",
       "      <td>12</td>\n",
       "      <td>115713</td>\n",
       "      <td>True</td>\n",
       "      <td>Tue Oct 31 22:04:47 +0000 2017</td>\n",
       "      <td>@sprintcare You gonna magically change your co...</td>\n",
       "      <td>11,13,14</td>\n",
       "      <td>15.0</td>\n",
       "    </tr>\n",
       "    <tr>\n",
       "      <th>9</th>\n",
       "      <td>15</td>\n",
       "      <td>sprintcare</td>\n",
       "      <td>False</td>\n",
       "      <td>Tue Oct 31 20:03:31 +0000 2017</td>\n",
       "      <td>@115713 We understand your concerns and we'd l...</td>\n",
       "      <td>12</td>\n",
       "      <td>16.0</td>\n",
       "    </tr>\n",
       "  </tbody>\n",
       "</table>\n",
       "</div>"
      ],
      "text/plain": [
       "   tweet_id   author_id  inbound                      created_at  \\\n",
       "0         1  sprintcare    False  Tue Oct 31 22:10:47 +0000 2017   \n",
       "1         2      115712     True  Tue Oct 31 22:11:45 +0000 2017   \n",
       "2         3      115712     True  Tue Oct 31 22:08:27 +0000 2017   \n",
       "3         4  sprintcare    False  Tue Oct 31 21:54:49 +0000 2017   \n",
       "4         5      115712     True  Tue Oct 31 21:49:35 +0000 2017   \n",
       "5         6  sprintcare    False  Tue Oct 31 21:46:24 +0000 2017   \n",
       "6         8      115712     True  Tue Oct 31 21:45:10 +0000 2017   \n",
       "7        11  sprintcare    False  Tue Oct 31 22:10:35 +0000 2017   \n",
       "8        12      115713     True  Tue Oct 31 22:04:47 +0000 2017   \n",
       "9        15  sprintcare    False  Tue Oct 31 20:03:31 +0000 2017   \n",
       "\n",
       "                                                text response_tweet_id  \\\n",
       "0  @115712 I understand. I would like to assist y...                 2   \n",
       "1      @sprintcare and how do you propose we do that               NaN   \n",
       "2  @sprintcare I have sent several private messag...                 1   \n",
       "3  @115712 Please send us a Private Message so th...                 3   \n",
       "4                                 @sprintcare I did.                 4   \n",
       "5  @115712 Can you please send us a private messa...               5,7   \n",
       "6          @sprintcare is the worst customer service            9,6,10   \n",
       "7  @115713 This is saddening to hear. Please shoo...               NaN   \n",
       "8  @sprintcare You gonna magically change your co...          11,13,14   \n",
       "9  @115713 We understand your concerns and we'd l...                12   \n",
       "\n",
       "   in_response_to_tweet_id  \n",
       "0                      3.0  \n",
       "1                      1.0  \n",
       "2                      4.0  \n",
       "3                      5.0  \n",
       "4                      6.0  \n",
       "5                      8.0  \n",
       "6                      NaN  \n",
       "7                     12.0  \n",
       "8                     15.0  \n",
       "9                     16.0  "
      ]
     },
     "execution_count": 12,
     "metadata": {},
     "output_type": "execute_result"
    }
   ],
   "source": [
    "df.head(10)"
   ]
  },
  {
   "cell_type": "code",
   "execution_count": 36,
   "metadata": {},
   "outputs": [
    {
     "data": {
      "text/html": [
       "<div>\n",
       "<style>\n",
       "    .dataframe thead tr:only-child th {\n",
       "        text-align: right;\n",
       "    }\n",
       "\n",
       "    .dataframe thead th {\n",
       "        text-align: left;\n",
       "    }\n",
       "\n",
       "    .dataframe tbody tr th {\n",
       "        vertical-align: top;\n",
       "    }\n",
       "</style>\n",
       "<table border=\"1\" class=\"dataframe\">\n",
       "  <thead>\n",
       "    <tr style=\"text-align: right;\">\n",
       "      <th></th>\n",
       "      <th>tweet_id</th>\n",
       "      <th>author_id</th>\n",
       "      <th>inbound</th>\n",
       "      <th>created_at</th>\n",
       "      <th>text</th>\n",
       "      <th>response_tweet_id</th>\n",
       "      <th>in_response_to_tweet_id</th>\n",
       "    </tr>\n",
       "  </thead>\n",
       "  <tbody>\n",
       "    <tr>\n",
       "      <th>6</th>\n",
       "      <td>8</td>\n",
       "      <td>115712</td>\n",
       "      <td>True</td>\n",
       "      <td>Tue Oct 31 21:45:10 +0000 2017</td>\n",
       "      <td>@sprintcare is the worst customer service</td>\n",
       "      <td>9,6,10</td>\n",
       "      <td>NaN</td>\n",
       "    </tr>\n",
       "    <tr>\n",
       "      <th>2314174</th>\n",
       "      <td>10</td>\n",
       "      <td>sprintcare</td>\n",
       "      <td>False</td>\n",
       "      <td>Tue Oct 31 21:45:59 +0000 2017</td>\n",
       "      <td>@115712 Hello! We never like our customers to ...</td>\n",
       "      <td>NaN</td>\n",
       "      <td>8.0</td>\n",
       "    </tr>\n",
       "    <tr>\n",
       "      <th>2314166</th>\n",
       "      <td>9</td>\n",
       "      <td>sprintcare</td>\n",
       "      <td>False</td>\n",
       "      <td>Tue Oct 31 21:46:14 +0000 2017</td>\n",
       "      <td>@115712 I would love the chance to review the ...</td>\n",
       "      <td>NaN</td>\n",
       "      <td>8.0</td>\n",
       "    </tr>\n",
       "    <tr>\n",
       "      <th>5</th>\n",
       "      <td>6</td>\n",
       "      <td>sprintcare</td>\n",
       "      <td>False</td>\n",
       "      <td>Tue Oct 31 21:46:24 +0000 2017</td>\n",
       "      <td>@115712 Can you please send us a private messa...</td>\n",
       "      <td>5,7</td>\n",
       "      <td>8.0</td>\n",
       "    </tr>\n",
       "    <tr>\n",
       "      <th>2314173</th>\n",
       "      <td>7</td>\n",
       "      <td>115712</td>\n",
       "      <td>True</td>\n",
       "      <td>Tue Oct 31 21:47:48 +0000 2017</td>\n",
       "      <td>@sprintcare the only way I can get a response ...</td>\n",
       "      <td>NaN</td>\n",
       "      <td>6.0</td>\n",
       "    </tr>\n",
       "    <tr>\n",
       "      <th>4</th>\n",
       "      <td>5</td>\n",
       "      <td>115712</td>\n",
       "      <td>True</td>\n",
       "      <td>Tue Oct 31 21:49:35 +0000 2017</td>\n",
       "      <td>@sprintcare I did.</td>\n",
       "      <td>4</td>\n",
       "      <td>6.0</td>\n",
       "    </tr>\n",
       "    <tr>\n",
       "      <th>3</th>\n",
       "      <td>4</td>\n",
       "      <td>sprintcare</td>\n",
       "      <td>False</td>\n",
       "      <td>Tue Oct 31 21:54:49 +0000 2017</td>\n",
       "      <td>@115712 Please send us a Private Message so th...</td>\n",
       "      <td>3</td>\n",
       "      <td>5.0</td>\n",
       "    </tr>\n",
       "    <tr>\n",
       "      <th>2</th>\n",
       "      <td>3</td>\n",
       "      <td>115712</td>\n",
       "      <td>True</td>\n",
       "      <td>Tue Oct 31 22:08:27 +0000 2017</td>\n",
       "      <td>@sprintcare I have sent several private messag...</td>\n",
       "      <td>1</td>\n",
       "      <td>4.0</td>\n",
       "    </tr>\n",
       "    <tr>\n",
       "      <th>0</th>\n",
       "      <td>1</td>\n",
       "      <td>sprintcare</td>\n",
       "      <td>False</td>\n",
       "      <td>Tue Oct 31 22:10:47 +0000 2017</td>\n",
       "      <td>@115712 I understand. I would like to assist y...</td>\n",
       "      <td>2</td>\n",
       "      <td>3.0</td>\n",
       "    </tr>\n",
       "    <tr>\n",
       "      <th>1</th>\n",
       "      <td>2</td>\n",
       "      <td>115712</td>\n",
       "      <td>True</td>\n",
       "      <td>Tue Oct 31 22:11:45 +0000 2017</td>\n",
       "      <td>@sprintcare and how do you propose we do that</td>\n",
       "      <td>NaN</td>\n",
       "      <td>1.0</td>\n",
       "    </tr>\n",
       "  </tbody>\n",
       "</table>\n",
       "</div>"
      ],
      "text/plain": [
       "         tweet_id   author_id  inbound                      created_at  \\\n",
       "6               8      115712     True  Tue Oct 31 21:45:10 +0000 2017   \n",
       "2314174        10  sprintcare    False  Tue Oct 31 21:45:59 +0000 2017   \n",
       "2314166         9  sprintcare    False  Tue Oct 31 21:46:14 +0000 2017   \n",
       "5               6  sprintcare    False  Tue Oct 31 21:46:24 +0000 2017   \n",
       "2314173         7      115712     True  Tue Oct 31 21:47:48 +0000 2017   \n",
       "4               5      115712     True  Tue Oct 31 21:49:35 +0000 2017   \n",
       "3               4  sprintcare    False  Tue Oct 31 21:54:49 +0000 2017   \n",
       "2               3      115712     True  Tue Oct 31 22:08:27 +0000 2017   \n",
       "0               1  sprintcare    False  Tue Oct 31 22:10:47 +0000 2017   \n",
       "1               2      115712     True  Tue Oct 31 22:11:45 +0000 2017   \n",
       "\n",
       "                                                      text response_tweet_id  \\\n",
       "6                @sprintcare is the worst customer service            9,6,10   \n",
       "2314174  @115712 Hello! We never like our customers to ...               NaN   \n",
       "2314166  @115712 I would love the chance to review the ...               NaN   \n",
       "5        @115712 Can you please send us a private messa...               5,7   \n",
       "2314173  @sprintcare the only way I can get a response ...               NaN   \n",
       "4                                       @sprintcare I did.                 4   \n",
       "3        @115712 Please send us a Private Message so th...                 3   \n",
       "2        @sprintcare I have sent several private messag...                 1   \n",
       "0        @115712 I understand. I would like to assist y...                 2   \n",
       "1            @sprintcare and how do you propose we do that               NaN   \n",
       "\n",
       "         in_response_to_tweet_id  \n",
       "6                            NaN  \n",
       "2314174                      8.0  \n",
       "2314166                      8.0  \n",
       "5                            8.0  \n",
       "2314173                      6.0  \n",
       "4                            6.0  \n",
       "3                            5.0  \n",
       "2                            4.0  \n",
       "0                            3.0  \n",
       "1                            1.0  "
      ]
     },
     "execution_count": 36,
     "metadata": {},
     "output_type": "execute_result"
    }
   ],
   "source": [
    "df[df['tweet_id'].isin(list(range(11)))].sort_values(by='created_at')"
   ]
  },
  {
   "cell_type": "code",
   "execution_count": 139,
   "metadata": {},
   "outputs": [
    {
     "data": {
      "text/plain": [
       "['5', '7']"
      ]
     },
     "execution_count": 139,
     "metadata": {},
     "output_type": "execute_result"
    }
   ],
   "source": [
    "(df.loc[5].response_tweet_id).split(',')"
   ]
  },
  {
   "cell_type": "code",
   "execution_count": 141,
   "metadata": {},
   "outputs": [
    {
     "data": {
      "text/plain": [
       "numpy.int64"
      ]
     },
     "execution_count": 141,
     "metadata": {},
     "output_type": "execute_result"
    }
   ],
   "source": [
    "type(df.loc[5].tweet_id)"
   ]
  },
  {
   "cell_type": "code",
   "execution_count": 8,
   "metadata": {},
   "outputs": [
    {
     "data": {
      "text/plain": [
       "'@115712 I understand. I would like to assist you. We would need to get you into a private secured link to further assist.'"
      ]
     },
     "execution_count": 8,
     "metadata": {},
     "output_type": "execute_result"
    }
   ],
   "source": [
    "df['text'][0]"
   ]
  },
  {
   "cell_type": "code",
   "execution_count": 9,
   "metadata": {},
   "outputs": [
    {
     "data": {
      "text/plain": [
       "'@sprintcare and how do you propose we do that'"
      ]
     },
     "execution_count": 9,
     "metadata": {},
     "output_type": "execute_result"
    }
   ],
   "source": [
    "df['text'][1]"
   ]
  },
  {
   "cell_type": "code",
   "execution_count": 15,
   "metadata": {},
   "outputs": [
    {
     "data": {
      "text/html": [
       "<div>\n",
       "<style>\n",
       "    .dataframe thead tr:only-child th {\n",
       "        text-align: right;\n",
       "    }\n",
       "\n",
       "    .dataframe thead th {\n",
       "        text-align: left;\n",
       "    }\n",
       "\n",
       "    .dataframe tbody tr th {\n",
       "        vertical-align: top;\n",
       "    }\n",
       "</style>\n",
       "<table border=\"1\" class=\"dataframe\">\n",
       "  <thead>\n",
       "    <tr style=\"text-align: right;\">\n",
       "      <th></th>\n",
       "      <th>tweet_id</th>\n",
       "      <th>author_id</th>\n",
       "      <th>inbound</th>\n",
       "      <th>created_at</th>\n",
       "      <th>text</th>\n",
       "      <th>response_tweet_id</th>\n",
       "      <th>in_response_to_tweet_id</th>\n",
       "    </tr>\n",
       "  </thead>\n",
       "  <tbody>\n",
       "    <tr>\n",
       "      <th>2639412</th>\n",
       "      <td>2811774</td>\n",
       "      <td>AmazonHelp</td>\n",
       "      <td>False</td>\n",
       "      <td>Wed Nov 22 08:08:29 +0000 2017</td>\n",
       "      <td>@784063 失礼いたします。　Amazonでのご注文商品が届かずにお困りでしょうか？その...</td>\n",
       "      <td>2811773</td>\n",
       "      <td>2811775.0</td>\n",
       "    </tr>\n",
       "  </tbody>\n",
       "</table>\n",
       "</div>"
      ],
      "text/plain": [
       "         tweet_id   author_id  inbound                      created_at  \\\n",
       "2639412   2811774  AmazonHelp    False  Wed Nov 22 08:08:29 +0000 2017   \n",
       "\n",
       "                                                      text response_tweet_id  \\\n",
       "2639412  @784063 失礼いたします。　Amazonでのご注文商品が届かずにお困りでしょうか？その...           2811773   \n",
       "\n",
       "         in_response_to_tweet_id  \n",
       "2639412                2811775.0  "
      ]
     },
     "execution_count": 15,
     "metadata": {},
     "output_type": "execute_result"
    }
   ],
   "source": [
    "df.loc[df['tweet_id'] == 2811774]"
   ]
  },
  {
   "cell_type": "code",
   "execution_count": 16,
   "metadata": {
    "collapsed": true
   },
   "outputs": [],
   "source": [
    "a = df['author_id'].tolist()"
   ]
  },
  {
   "cell_type": "code",
   "execution_count": 18,
   "metadata": {},
   "outputs": [],
   "source": [
    "a = set(a)"
   ]
  },
  {
   "cell_type": "code",
   "execution_count": 22,
   "metadata": {},
   "outputs": [],
   "source": [
    "names = [t for t in a if re.search('[a-zA-Z]', t)]"
   ]
  },
  {
   "cell_type": "code",
   "execution_count": 23,
   "metadata": {},
   "outputs": [
    {
     "data": {
      "text/plain": [
       "108"
      ]
     },
     "execution_count": 23,
     "metadata": {},
     "output_type": "execute_result"
    }
   ],
   "source": [
    "len(names)"
   ]
  },
  {
   "cell_type": "code",
   "execution_count": 35,
   "metadata": {},
   "outputs": [
    {
     "name": "stdout",
     "output_type": "stream",
     "text": [
      "True\n",
      "True\n"
     ]
    }
   ],
   "source": [
    "print(df[(df['author_id'].isin(names)) & (df['inbound'] == True)].shape[0] == 0)\n",
    "print(df[~(df['author_id'].isin(names)) & (df['inbound'] == False)].shape[0] == 0)"
   ]
  },
  {
   "cell_type": "code",
   "execution_count": 84,
   "metadata": {},
   "outputs": [
    {
     "name": "stdout",
     "output_type": "stream",
     "text": [
      "1273931\n",
      "1537843\n"
     ]
    }
   ],
   "source": [
    "print(df[(df['author_id'].isin(names))].shape[0])\n",
    "print(df[~(df['author_id'].isin(names))].shape[0])"
   ]
  },
  {
   "cell_type": "code",
   "execution_count": 86,
   "metadata": {},
   "outputs": [
    {
     "data": {
      "text/plain": [
       "0.4530701969646209"
      ]
     },
     "execution_count": 86,
     "metadata": {},
     "output_type": "execute_result"
    }
   ],
   "source": [
    "1273931/2811774"
   ]
  },
  {
   "cell_type": "code",
   "execution_count": 37,
   "metadata": {},
   "outputs": [
    {
     "data": {
      "text/plain": [
       "(1273931, 7)"
      ]
     },
     "execution_count": 37,
     "metadata": {},
     "output_type": "execute_result"
    }
   ],
   "source": [
    "df_comp = df[(df['author_id'].isin(names))]\n",
    "df_comp.shape"
   ]
  },
  {
   "cell_type": "code",
   "execution_count": 81,
   "metadata": {},
   "outputs": [],
   "source": [
    "agg_comp = df_comp[['tweet_id','author_id']].groupby(by=['author_id'], as_index=False).agg(['count'])\n",
    "agg_comp.columns = agg_comp.columns.droplevel(0)\n",
    "agg_comp = agg_comp.reset_index()\n",
    "sort_df = agg_comp.sort_values(by='count',ascending=False)"
   ]
  },
  {
   "cell_type": "code",
   "execution_count": 87,
   "metadata": {},
   "outputs": [
    {
     "data": {
      "text/html": [
       "<div>\n",
       "<style>\n",
       "    .dataframe thead tr:only-child th {\n",
       "        text-align: right;\n",
       "    }\n",
       "\n",
       "    .dataframe thead th {\n",
       "        text-align: left;\n",
       "    }\n",
       "\n",
       "    .dataframe tbody tr th {\n",
       "        vertical-align: top;\n",
       "    }\n",
       "</style>\n",
       "<table border=\"1\" class=\"dataframe\">\n",
       "  <thead>\n",
       "    <tr style=\"text-align: right;\">\n",
       "      <th></th>\n",
       "      <th>author_id</th>\n",
       "      <th>count</th>\n",
       "    </tr>\n",
       "  </thead>\n",
       "  <tbody>\n",
       "    <tr>\n",
       "      <th>8</th>\n",
       "      <td>AmazonHelp</td>\n",
       "      <td>169840</td>\n",
       "    </tr>\n",
       "    <tr>\n",
       "      <th>10</th>\n",
       "      <td>AppleSupport</td>\n",
       "      <td>106860</td>\n",
       "    </tr>\n",
       "    <tr>\n",
       "      <th>85</th>\n",
       "      <td>Uber_Support</td>\n",
       "      <td>56270</td>\n",
       "    </tr>\n",
       "    <tr>\n",
       "      <th>77</th>\n",
       "      <td>SpotifyCares</td>\n",
       "      <td>43265</td>\n",
       "    </tr>\n",
       "    <tr>\n",
       "      <th>40</th>\n",
       "      <td>Delta</td>\n",
       "      <td>42253</td>\n",
       "    </tr>\n",
       "    <tr>\n",
       "      <th>80</th>\n",
       "      <td>Tesco</td>\n",
       "      <td>38573</td>\n",
       "    </tr>\n",
       "    <tr>\n",
       "      <th>9</th>\n",
       "      <td>AmericanAir</td>\n",
       "      <td>36764</td>\n",
       "    </tr>\n",
       "    <tr>\n",
       "      <th>78</th>\n",
       "      <td>TMobileHelp</td>\n",
       "      <td>34317</td>\n",
       "    </tr>\n",
       "    <tr>\n",
       "      <th>99</th>\n",
       "      <td>comcastcares</td>\n",
       "      <td>33031</td>\n",
       "    </tr>\n",
       "    <tr>\n",
       "      <th>33</th>\n",
       "      <td>British_Airways</td>\n",
       "      <td>29361</td>\n",
       "    </tr>\n",
       "  </tbody>\n",
       "</table>\n",
       "</div>"
      ],
      "text/plain": [
       "          author_id   count\n",
       "8        AmazonHelp  169840\n",
       "10     AppleSupport  106860\n",
       "85     Uber_Support   56270\n",
       "77     SpotifyCares   43265\n",
       "40            Delta   42253\n",
       "80            Tesco   38573\n",
       "9       AmericanAir   36764\n",
       "78      TMobileHelp   34317\n",
       "99     comcastcares   33031\n",
       "33  British_Airways   29361"
      ]
     },
     "execution_count": 87,
     "metadata": {},
     "output_type": "execute_result"
    }
   ],
   "source": [
    "sort_df.head(10)"
   ]
  },
  {
   "cell_type": "code",
   "execution_count": 88,
   "metadata": {},
   "outputs": [
    {
     "data": {
      "text/html": [
       "<div>\n",
       "<style>\n",
       "    .dataframe thead tr:only-child th {\n",
       "        text-align: right;\n",
       "    }\n",
       "\n",
       "    .dataframe thead th {\n",
       "        text-align: left;\n",
       "    }\n",
       "\n",
       "    .dataframe tbody tr th {\n",
       "        vertical-align: top;\n",
       "    }\n",
       "</style>\n",
       "<table border=\"1\" class=\"dataframe\">\n",
       "  <thead>\n",
       "    <tr style=\"text-align: right;\">\n",
       "      <th></th>\n",
       "      <th>author_id</th>\n",
       "      <th>count</th>\n",
       "    </tr>\n",
       "  </thead>\n",
       "  <tbody>\n",
       "    <tr>\n",
       "      <th>59</th>\n",
       "      <td>MOO</td>\n",
       "      <td>630</td>\n",
       "    </tr>\n",
       "    <tr>\n",
       "      <th>95</th>\n",
       "      <td>ask_progressive</td>\n",
       "      <td>612</td>\n",
       "    </tr>\n",
       "    <tr>\n",
       "      <th>56</th>\n",
       "      <td>KeyBank_Help</td>\n",
       "      <td>555</td>\n",
       "    </tr>\n",
       "    <tr>\n",
       "      <th>21</th>\n",
       "      <td>AskRobinhood</td>\n",
       "      <td>432</td>\n",
       "    </tr>\n",
       "    <tr>\n",
       "      <th>103</th>\n",
       "      <td>mediatemplehelp</td>\n",
       "      <td>305</td>\n",
       "    </tr>\n",
       "    <tr>\n",
       "      <th>53</th>\n",
       "      <td>JackBox</td>\n",
       "      <td>266</td>\n",
       "    </tr>\n",
       "    <tr>\n",
       "      <th>69</th>\n",
       "      <td>OfficeSupport</td>\n",
       "      <td>218</td>\n",
       "    </tr>\n",
       "    <tr>\n",
       "      <th>15</th>\n",
       "      <td>AskDSC</td>\n",
       "      <td>210</td>\n",
       "    </tr>\n",
       "    <tr>\n",
       "      <th>34</th>\n",
       "      <td>CarlsJr</td>\n",
       "      <td>196</td>\n",
       "    </tr>\n",
       "    <tr>\n",
       "      <th>51</th>\n",
       "      <td>HotelTonightCX</td>\n",
       "      <td>152</td>\n",
       "    </tr>\n",
       "  </tbody>\n",
       "</table>\n",
       "</div>"
      ],
      "text/plain": [
       "           author_id  count\n",
       "59               MOO    630\n",
       "95   ask_progressive    612\n",
       "56      KeyBank_Help    555\n",
       "21      AskRobinhood    432\n",
       "103  mediatemplehelp    305\n",
       "53           JackBox    266\n",
       "69     OfficeSupport    218\n",
       "15            AskDSC    210\n",
       "34           CarlsJr    196\n",
       "51    HotelTonightCX    152"
      ]
     },
     "execution_count": 88,
     "metadata": {},
     "output_type": "execute_result"
    }
   ],
   "source": [
    "sort_df.tail(10)"
   ]
  },
  {
   "cell_type": "code",
   "execution_count": 97,
   "metadata": {},
   "outputs": [
    {
     "data": {
      "text/plain": [
       "[]"
      ]
     },
     "execution_count": 97,
     "metadata": {},
     "output_type": "execute_result"
    }
   ],
   "source": [
    "# Check every in_response_to_tweet_id only contains one float value \n",
    "[t for t in df.in_response_to_tweet_id.tolist() if not isinstance(t, float)]"
   ]
  },
  {
   "cell_type": "code",
   "execution_count": 118,
   "metadata": {},
   "outputs": [
    {
     "data": {
      "text/plain": [
       "794335"
      ]
     },
     "execution_count": 118,
     "metadata": {},
     "output_type": "execute_result"
    }
   ],
   "source": [
    "# Number of dialogue\n",
    "df.in_response_to_tweet_id.isnull().sum()"
   ]
  },
  {
   "cell_type": "code",
   "execution_count": 205,
   "metadata": {
    "collapsed": true
   },
   "outputs": [],
   "source": [
    "amaz_df = df[df['author_id'] == 'AmazonHelp']"
   ]
  },
  {
   "cell_type": "code",
   "execution_count": 208,
   "metadata": {},
   "outputs": [
    {
     "data": {
      "text/html": [
       "<div>\n",
       "<style>\n",
       "    .dataframe thead tr:only-child th {\n",
       "        text-align: right;\n",
       "    }\n",
       "\n",
       "    .dataframe thead th {\n",
       "        text-align: left;\n",
       "    }\n",
       "\n",
       "    .dataframe tbody tr th {\n",
       "        vertical-align: top;\n",
       "    }\n",
       "</style>\n",
       "<table border=\"1\" class=\"dataframe\">\n",
       "  <thead>\n",
       "    <tr style=\"text-align: right;\">\n",
       "      <th></th>\n",
       "      <th>tweet_id</th>\n",
       "      <th>author_id</th>\n",
       "      <th>inbound</th>\n",
       "      <th>created_at</th>\n",
       "      <th>text</th>\n",
       "      <th>response_tweet_id</th>\n",
       "      <th>in_response_to_tweet_id</th>\n",
       "    </tr>\n",
       "  </thead>\n",
       "  <tbody>\n",
       "    <tr>\n",
       "      <th>181</th>\n",
       "      <td>269</td>\n",
       "      <td>AmazonHelp</td>\n",
       "      <td>False</td>\n",
       "      <td>2017-11-22 09:23:01</td>\n",
       "      <td>@115770 こんにちは、アマゾン公式です。Fire TV Stickが見れないというのは...</td>\n",
       "      <td>270,271</td>\n",
       "      <td>272.0</td>\n",
       "    </tr>\n",
       "    <tr>\n",
       "      <th>184</th>\n",
       "      <td>273</td>\n",
       "      <td>AmazonHelp</td>\n",
       "      <td>False</td>\n",
       "      <td>2017-11-22 09:40:27</td>\n",
       "      <td>@115770 カスタマーサービスにてお問い合わせ済みとのことで、お手数をおかけいたしました...</td>\n",
       "      <td>274</td>\n",
       "      <td>271.0</td>\n",
       "    </tr>\n",
       "    <tr>\n",
       "      <th>186</th>\n",
       "      <td>275</td>\n",
       "      <td>AmazonHelp</td>\n",
       "      <td>False</td>\n",
       "      <td>2017-11-22 10:06:26</td>\n",
       "      <td>@115770 恐れ入ります。至らない点も多々あるかとは存じますが、今後ともどうぞよろしくお...</td>\n",
       "      <td>NaN</td>\n",
       "      <td>274.0</td>\n",
       "    </tr>\n",
       "    <tr>\n",
       "      <th>234</th>\n",
       "      <td>324</td>\n",
       "      <td>AmazonHelp</td>\n",
       "      <td>False</td>\n",
       "      <td>2017-11-22 09:06:00</td>\n",
       "      <td>@115792 ご不便をおかけしております。アプリをご利用でしょうか。強制停止&amp;gt;端末の...</td>\n",
       "      <td>NaN</td>\n",
       "      <td>325.0</td>\n",
       "    </tr>\n",
       "    <tr>\n",
       "      <th>321</th>\n",
       "      <td>615</td>\n",
       "      <td>AmazonHelp</td>\n",
       "      <td>False</td>\n",
       "      <td>2017-10-31 22:29:00</td>\n",
       "      <td>@115820 I'm sorry we've let you down! Without ...</td>\n",
       "      <td>616</td>\n",
       "      <td>617.0</td>\n",
       "    </tr>\n",
       "  </tbody>\n",
       "</table>\n",
       "</div>"
      ],
      "text/plain": [
       "     tweet_id   author_id  inbound          created_at  \\\n",
       "181       269  AmazonHelp    False 2017-11-22 09:23:01   \n",
       "184       273  AmazonHelp    False 2017-11-22 09:40:27   \n",
       "186       275  AmazonHelp    False 2017-11-22 10:06:26   \n",
       "234       324  AmazonHelp    False 2017-11-22 09:06:00   \n",
       "321       615  AmazonHelp    False 2017-10-31 22:29:00   \n",
       "\n",
       "                                                  text response_tweet_id  \\\n",
       "181  @115770 こんにちは、アマゾン公式です。Fire TV Stickが見れないというのは...           270,271   \n",
       "184  @115770 カスタマーサービスにてお問い合わせ済みとのことで、お手数をおかけいたしました...               274   \n",
       "186  @115770 恐れ入ります。至らない点も多々あるかとは存じますが、今後ともどうぞよろしくお...               NaN   \n",
       "234  @115792 ご不便をおかけしております。アプリをご利用でしょうか。強制停止&gt;端末の...               NaN   \n",
       "321  @115820 I'm sorry we've let you down! Without ...               616   \n",
       "\n",
       "     in_response_to_tweet_id  \n",
       "181                    272.0  \n",
       "184                    271.0  \n",
       "186                    274.0  \n",
       "234                    325.0  \n",
       "321                    617.0  "
      ]
     },
     "execution_count": 208,
     "metadata": {},
     "output_type": "execute_result"
    }
   ],
   "source": [
    "amaz_df.head()"
   ]
  },
  {
   "cell_type": "markdown",
   "metadata": {},
   "source": [
    "## Structure Data"
   ]
  },
  {
   "cell_type": "code",
   "execution_count": 328,
   "metadata": {},
   "outputs": [
    {
     "data": {
      "text/html": [
       "<div>\n",
       "<style>\n",
       "    .dataframe thead tr:only-child th {\n",
       "        text-align: right;\n",
       "    }\n",
       "\n",
       "    .dataframe thead th {\n",
       "        text-align: left;\n",
       "    }\n",
       "\n",
       "    .dataframe tbody tr th {\n",
       "        vertical-align: top;\n",
       "    }\n",
       "</style>\n",
       "<table border=\"1\" class=\"dataframe\">\n",
       "  <thead>\n",
       "    <tr style=\"text-align: right;\">\n",
       "      <th></th>\n",
       "      <th>author_id</th>\n",
       "      <th>created_at</th>\n",
       "      <th>text</th>\n",
       "    </tr>\n",
       "  </thead>\n",
       "  <tbody>\n",
       "    <tr>\n",
       "      <th>756</th>\n",
       "      <td>115951</td>\n",
       "      <td>2017-10-31 22:22:31</td>\n",
       "      <td>@115913 I'm a #TMobile customer getting the ru...</td>\n",
       "    </tr>\n",
       "    <tr>\n",
       "      <th>1824751</th>\n",
       "      <td>TMobileHelp</td>\n",
       "      <td>2017-10-31 22:23:27</td>\n",
       "      <td>@115951 @115913 We always want to keep you con...</td>\n",
       "    </tr>\n",
       "    <tr>\n",
       "      <th>757</th>\n",
       "      <td>sprintcare</td>\n",
       "      <td>2017-10-31 22:24:30</td>\n",
       "      <td>@115951 Hello please go to the link I will nee...</td>\n",
       "    </tr>\n",
       "    <tr>\n",
       "      <th>755</th>\n",
       "      <td>sprintcare</td>\n",
       "      <td>2017-10-31 22:25:24</td>\n",
       "      <td>@115951 Get started here: https://t.co/dYSbRQ3...</td>\n",
       "    </tr>\n",
       "  </tbody>\n",
       "</table>\n",
       "</div>"
      ],
      "text/plain": [
       "           author_id          created_at                                               text\n",
       "756           115951 2017-10-31 22:22:31  @115913 I'm a #TMobile customer getting the ru...\n",
       "1824751  TMobileHelp 2017-10-31 22:23:27  @115951 @115913 We always want to keep you con...\n",
       "757       sprintcare 2017-10-31 22:24:30  @115951 Hello please go to the link I will nee...\n",
       "755       sprintcare 2017-10-31 22:25:24  @115951 Get started here: https://t.co/dYSbRQ3..."
      ]
     },
     "execution_count": 328,
     "metadata": {},
     "output_type": "execute_result"
    }
   ],
   "source": [
    "df[df.tweet_id.isin([1299, 1298, 1300, 1301])].sort_values(by='created_at')[['author_id','created_at','text']]"
   ]
  },
  {
   "cell_type": "code",
   "execution_count": 330,
   "metadata": {
    "collapsed": true
   },
   "outputs": [],
   "source": [
    "class tweet(object):\n",
    "    \"\"\"\n",
    "    An object that holds a single tweet\n",
    "    \"\"\"\n",
    "    def __init__(self, df_row):\n",
    "        self.tweet_id = df_row.tweet_id\n",
    "        self.author_id = df_row.author_id\n",
    "        self.created_at = df_row.created_at\n",
    "        self.text = df_row.text\n",
    "        self.response_tweet_id = df_row.response_tweet_id\n",
    "        self.in_response_to_tweet_id = df_row.in_response_to_tweet_id"
   ]
  },
  {
   "cell_type": "code",
   "execution_count": 331,
   "metadata": {
    "collapsed": true
   },
   "outputs": [],
   "source": [
    "class dialogue(object):\n",
    "    \"\"\"\n",
    "    A structured object that organizes dialogue between customer and company agent\n",
    "    \"\"\"\n",
    "    def __init__(self, init_tweet):\n",
    "        self.tweets = [init_tweet]\n",
    "        self.ids = {init_tweet.tweet_id}\n",
    "        self.company = None"
   ]
  },
  {
   "cell_type": "code",
   "execution_count": 332,
   "metadata": {},
   "outputs": [
    {
     "name": "stdout",
     "output_type": "stream",
     "text": [
      "finished 0 rows\n",
      "finished 10000 rows\n",
      "finished 20000 rows\n",
      "finished 30000 rows\n",
      "finished 40000 rows\n",
      "finished 50000 rows\n",
      "finished 60000 rows\n",
      "finished 70000 rows\n",
      "finished 80000 rows\n",
      "finished 90000 rows\n",
      "finished 100000 rows\n",
      "finished 110000 rows\n",
      "finished 120000 rows\n",
      "finished 130000 rows\n",
      "finished 140000 rows\n",
      "finished 150000 rows\n",
      "finished 160000 rows\n",
      "finished 170000 rows\n",
      "finished 180000 rows\n",
      "finished 190000 rows\n",
      "finished 200000 rows\n",
      "finished 210000 rows\n",
      "finished 220000 rows\n",
      "finished 230000 rows\n",
      "finished 240000 rows\n",
      "finished 250000 rows\n",
      "finished 260000 rows\n",
      "finished 270000 rows\n",
      "finished 280000 rows\n",
      "finished 290000 rows\n",
      "finished 300000 rows\n",
      "finished 310000 rows\n",
      "finished 320000 rows\n",
      "finished 330000 rows\n",
      "finished 340000 rows\n",
      "finished 350000 rows\n",
      "finished 360000 rows\n",
      "finished 370000 rows\n",
      "finished 380000 rows\n",
      "finished 390000 rows\n",
      "finished 400000 rows\n",
      "finished 410000 rows\n",
      "finished 420000 rows\n",
      "finished 430000 rows\n",
      "finished 440000 rows\n",
      "finished 450000 rows\n",
      "finished 460000 rows\n",
      "finished 470000 rows\n",
      "finished 480000 rows\n",
      "finished 490000 rows\n",
      "finished 500000 rows\n",
      "finished 510000 rows\n",
      "finished 520000 rows\n",
      "finished 530000 rows\n",
      "finished 540000 rows\n",
      "finished 550000 rows\n",
      "finished 560000 rows\n",
      "finished 570000 rows\n",
      "finished 580000 rows\n",
      "finished 590000 rows\n",
      "finished 600000 rows\n",
      "finished 610000 rows\n",
      "finished 620000 rows\n",
      "finished 630000 rows\n",
      "finished 640000 rows\n",
      "finished 650000 rows\n",
      "finished 660000 rows\n",
      "finished 670000 rows\n",
      "finished 680000 rows\n",
      "finished 690000 rows\n",
      "finished 700000 rows\n",
      "finished 710000 rows\n",
      "finished 720000 rows\n",
      "finished 730000 rows\n",
      "finished 740000 rows\n",
      "finished 750000 rows\n",
      "finished 760000 rows\n",
      "finished 770000 rows\n",
      "finished 780000 rows\n",
      "finished 790000 rows\n",
      "finished 800000 rows\n",
      "finished 810000 rows\n",
      "finished 820000 rows\n",
      "finished 830000 rows\n",
      "finished 840000 rows\n",
      "finished 850000 rows\n",
      "finished 860000 rows\n",
      "finished 870000 rows\n",
      "finished 880000 rows\n",
      "finished 890000 rows\n",
      "finished 900000 rows\n",
      "finished 910000 rows\n",
      "finished 920000 rows\n",
      "finished 930000 rows\n",
      "finished 940000 rows\n",
      "finished 950000 rows\n",
      "finished 960000 rows\n",
      "finished 970000 rows\n",
      "finished 980000 rows\n",
      "finished 990000 rows\n",
      "finished 1000000 rows\n",
      "finished 1010000 rows\n",
      "finished 1020000 rows\n",
      "finished 1030000 rows\n",
      "finished 1040000 rows\n",
      "finished 1050000 rows\n",
      "finished 1060000 rows\n",
      "finished 1070000 rows\n",
      "finished 1080000 rows\n",
      "finished 1090000 rows\n",
      "finished 1100000 rows\n",
      "finished 1110000 rows\n",
      "finished 1120000 rows\n",
      "finished 1130000 rows\n",
      "finished 1140000 rows\n",
      "finished 1150000 rows\n",
      "finished 1160000 rows\n",
      "finished 1170000 rows\n",
      "finished 1180000 rows\n",
      "finished 1190000 rows\n",
      "finished 1200000 rows\n",
      "finished 1210000 rows\n",
      "finished 1220000 rows\n",
      "finished 1230000 rows\n",
      "finished 1240000 rows\n",
      "finished 1250000 rows\n",
      "finished 1260000 rows\n",
      "finished 1270000 rows\n",
      "finished 1280000 rows\n",
      "finished 1290000 rows\n",
      "finished 1300000 rows\n",
      "finished 1310000 rows\n",
      "finished 1320000 rows\n",
      "finished 1330000 rows\n",
      "finished 1340000 rows\n",
      "finished 1350000 rows\n",
      "finished 1360000 rows\n",
      "finished 1370000 rows\n",
      "finished 1380000 rows\n",
      "finished 1390000 rows\n",
      "finished 1400000 rows\n",
      "finished 1410000 rows\n",
      "finished 1420000 rows\n",
      "finished 1430000 rows\n",
      "finished 1440000 rows\n",
      "finished 1450000 rows\n",
      "finished 1460000 rows\n",
      "finished 1470000 rows\n",
      "finished 1480000 rows\n",
      "finished 1490000 rows\n",
      "finished 1500000 rows\n",
      "finished 1510000 rows\n",
      "finished 1520000 rows\n",
      "finished 1530000 rows\n",
      "finished 1540000 rows\n",
      "finished 1550000 rows\n",
      "finished 1560000 rows\n",
      "finished 1570000 rows\n",
      "finished 1580000 rows\n",
      "finished 1590000 rows\n",
      "finished 1600000 rows\n",
      "finished 1610000 rows\n",
      "finished 1620000 rows\n",
      "finished 1630000 rows\n",
      "finished 1640000 rows\n",
      "finished 1650000 rows\n",
      "finished 1660000 rows\n",
      "finished 1670000 rows\n",
      "finished 1680000 rows\n",
      "finished 1690000 rows\n",
      "finished 1700000 rows\n",
      "finished 1710000 rows\n",
      "finished 1720000 rows\n",
      "finished 1730000 rows\n",
      "finished 1740000 rows\n",
      "finished 1750000 rows\n",
      "finished 1760000 rows\n",
      "finished 1770000 rows\n",
      "finished 1780000 rows\n",
      "finished 1790000 rows\n",
      "finished 1800000 rows\n",
      "finished 1810000 rows\n",
      "finished 1820000 rows\n",
      "finished 1830000 rows\n",
      "finished 1840000 rows\n",
      "finished 1850000 rows\n",
      "finished 1860000 rows\n",
      "finished 1870000 rows\n",
      "finished 1880000 rows\n",
      "finished 1890000 rows\n",
      "finished 1900000 rows\n",
      "finished 1910000 rows\n",
      "finished 1920000 rows\n",
      "finished 1930000 rows\n",
      "finished 1940000 rows\n",
      "finished 1950000 rows\n",
      "finished 1960000 rows\n",
      "finished 1970000 rows\n",
      "finished 1980000 rows\n",
      "finished 1990000 rows\n",
      "finished 2000000 rows\n",
      "finished 2010000 rows\n",
      "finished 2020000 rows\n",
      "finished 2030000 rows\n",
      "finished 2040000 rows\n",
      "finished 2050000 rows\n",
      "finished 2060000 rows\n",
      "finished 2070000 rows\n",
      "finished 2080000 rows\n",
      "finished 2090000 rows\n",
      "finished 2100000 rows\n",
      "finished 2110000 rows\n",
      "finished 2120000 rows\n",
      "finished 2130000 rows\n",
      "finished 2140000 rows\n",
      "finished 2150000 rows\n",
      "finished 2160000 rows\n",
      "finished 2170000 rows\n",
      "finished 2180000 rows\n",
      "finished 2190000 rows\n",
      "finished 2200000 rows\n",
      "finished 2210000 rows\n",
      "finished 2220000 rows\n",
      "finished 2230000 rows\n",
      "finished 2240000 rows\n",
      "finished 2250000 rows\n",
      "finished 2260000 rows\n",
      "finished 2270000 rows\n",
      "finished 2280000 rows\n",
      "finished 2290000 rows\n",
      "finished 2300000 rows\n",
      "finished 2310000 rows\n",
      "finished 2320000 rows\n",
      "finished 2330000 rows\n",
      "finished 2340000 rows\n",
      "finished 2350000 rows\n",
      "finished 2360000 rows\n",
      "finished 2370000 rows\n",
      "finished 2380000 rows\n",
      "finished 2390000 rows\n",
      "finished 2400000 rows\n",
      "finished 2410000 rows\n",
      "finished 2420000 rows\n",
      "finished 2430000 rows\n",
      "finished 2440000 rows\n",
      "finished 2450000 rows\n",
      "finished 2460000 rows\n",
      "finished 2470000 rows\n",
      "finished 2480000 rows\n",
      "finished 2490000 rows\n",
      "finished 2500000 rows\n",
      "finished 2510000 rows\n",
      "finished 2520000 rows\n",
      "finished 2530000 rows\n",
      "finished 2540000 rows\n",
      "finished 2550000 rows\n",
      "finished 2560000 rows\n",
      "finished 2570000 rows\n",
      "finished 2580000 rows\n",
      "finished 2590000 rows\n",
      "finished 2600000 rows\n",
      "finished 2610000 rows\n",
      "finished 2620000 rows\n",
      "finished 2630000 rows\n",
      "finished 2640000 rows\n",
      "finished 2650000 rows\n",
      "finished 2660000 rows\n",
      "finished 2670000 rows\n",
      "finished 2680000 rows\n",
      "finished 2690000 rows\n",
      "finished 2700000 rows\n",
      "finished 2710000 rows\n",
      "finished 2720000 rows\n",
      "finished 2730000 rows\n",
      "finished 2740000 rows\n",
      "finished 2750000 rows\n",
      "finished 2760000 rows\n",
      "finished 2770000 rows\n",
      "finished 2780000 rows\n",
      "finished 2790000 rows\n",
      "finished 2800000 rows\n",
      "finished 2810000 rows\n",
      "2811774\n",
      "2811774\n"
     ]
    }
   ],
   "source": [
    "candidate = {}\n",
    "heap = []\n",
    "\n",
    "for i in df.index.values:\n",
    "    if i % 10000 == 0:\n",
    "        print('finished %d rows' % i)\n",
    "    t = tweet(df.loc[i])\n",
    "    key = t.in_response_to_tweet_id\n",
    "    if np.isnan(key):\n",
    "        heap.append(dialogue(t))\n",
    "    else:\n",
    "        if key in candidate:\n",
    "            candidate[key].append(t)\n",
    "        else:\n",
    "            candidate[key] = [t]\n",
    "\n",
    "# These two numbers should equal\n",
    "print(len(heap) + sum([len(candidate[k]) for k in candidate]))\n",
    "print(df.shape[0])\n"
   ]
  },
  {
   "cell_type": "code",
   "execution_count": 333,
   "metadata": {
    "collapsed": true
   },
   "outputs": [],
   "source": [
    "# Assign candidate tweets to dialogues\n",
    "for i in range(len(heap)):\n",
    "    h = heap[i]\n",
    "    waiting = {h.tweets[0].tweet_id}\n",
    "    while len(waiting) > 0:\n",
    "        tmp_waiting = []\n",
    "        for idx in waiting:\n",
    "            try:\n",
    "                tmp_list = candidate[float(idx)]\n",
    "                h.tweets += tmp_list\n",
    "                h.ids.update([t.tweet_id for t in tmp_list])\n",
    "                tmp_waiting += [t.tweet_id for t in tmp_list]\n",
    "                del candidate[float(idx)]\n",
    "            except:\n",
    "                pass\n",
    "        waiting = set(tmp_waiting)"
   ]
  },
  {
   "cell_type": "code",
   "execution_count": 334,
   "metadata": {},
   "outputs": [
    {
     "data": {
      "text/plain": [
       "3.5197555187672709"
      ]
     },
     "execution_count": 334,
     "metadata": {},
     "output_type": "execute_result"
    }
   ],
   "source": [
    "# Number of tweets in a conversation on average\n",
    "np.mean([len(h.tweets) for h in heap])"
   ]
  },
  {
   "cell_type": "code",
   "execution_count": 336,
   "metadata": {},
   "outputs": [
    {
     "data": {
      "text/plain": [
       "2"
      ]
     },
     "execution_count": 336,
     "metadata": {},
     "output_type": "execute_result"
    }
   ],
   "source": [
    "min([len(h.tweets) for h in heap])"
   ]
  },
  {
   "cell_type": "code",
   "execution_count": 343,
   "metadata": {},
   "outputs": [
    {
     "data": {
      "text/plain": [
       "0.5466031334386625"
      ]
     },
     "execution_count": 343,
     "metadata": {},
     "output_type": "execute_result"
    }
   ],
   "source": [
    "len([1 for h in heap if len(h.tweets) == 2])/len(heap)"
   ]
  },
  {
   "cell_type": "code",
   "execution_count": 337,
   "metadata": {},
   "outputs": [
    {
     "data": {
      "text/plain": [
       "1390"
      ]
     },
     "execution_count": 337,
     "metadata": {},
     "output_type": "execute_result"
    }
   ],
   "source": [
    "max([len(h.tweets) for h in heap])"
   ]
  },
  {
   "cell_type": "code",
   "execution_count": 344,
   "metadata": {},
   "outputs": [
    {
     "data": {
      "text/plain": [
       "2.0"
      ]
     },
     "execution_count": 344,
     "metadata": {},
     "output_type": "execute_result"
    }
   ],
   "source": [
    "np.median([len(h.tweets) for h in heap])"
   ]
  },
  {
   "cell_type": "code",
   "execution_count": 350,
   "metadata": {
    "collapsed": true
   },
   "outputs": [],
   "source": [
    "def print_tweets(dialogue, show_id = True):\n",
    "    \"\"\"\n",
    "    Helper function to print tweets in a dialogue\n",
    "    \"\"\"\n",
    "    tweets = sorted(dialogue.tweets, key=lambda k: k.created_at) \n",
    "    for t in tweets:\n",
    "        if show_id:\n",
    "            print('tweet_id: %s, date: %s, author: %s, text: %s, response_tweet_id: %s, in_response_to_tweet_id: %s' % (t.tweet_id, str(t.created_at), t.author_id, t.text, str(t.response_tweet_id), str(t.in_response_to_tweet_id)))\n",
    "        else:\n",
    "            print('date: %s, author: %s, text: %s' % (str(t.created_at), t.author_id, t.text))\n"
   ]
  },
  {
   "cell_type": "code",
   "execution_count": 351,
   "metadata": {},
   "outputs": [
    {
     "data": {
      "text/plain": [
       "0.00012206750102490637"
      ]
     },
     "execution_count": 351,
     "metadata": {},
     "output_type": "execute_result"
    }
   ],
   "source": [
    "# Some of the dialogues suffer from loss of data\n",
    "count = 0\n",
    "for h in [_h for _h in heap if len(_h.tweets) == 2]:\n",
    "    t1, t2 = h.tweets\n",
    "    if t1.author_id in names or t2.author_id not in names:\n",
    "        count += 1\n",
    "        #print_tweets(h)\n",
    "count / len([_h for _h in heap if len(_h.tweets) == 2])"
   ]
  },
  {
   "cell_type": "code",
   "execution_count": 355,
   "metadata": {},
   "outputs": [
    {
     "data": {
      "text/plain": [
       "0.0038510200356272855"
      ]
     },
     "execution_count": 355,
     "metadata": {},
     "output_type": "execute_result"
    }
   ],
   "source": [
    "# How many dialogues have more than one companies participating\n",
    "count = 0\n",
    "s = set()\n",
    "for h in heap:\n",
    "    if len(set([t.author_id for t in h.tweets if t.author_id in names])) > 1:\n",
    "        count += 1\n",
    "        s.add(h)\n",
    "        #print_tweets(h)\n",
    "count / len(heap)"
   ]
  },
  {
   "cell_type": "code",
   "execution_count": null,
   "metadata": {
    "collapsed": true
   },
   "outputs": [],
   "source": []
  }
 ],
 "metadata": {
  "kernelspec": {
   "display_name": "Python 3",
   "language": "python",
   "name": "python3"
  },
  "language_info": {
   "codemirror_mode": {
    "name": "ipython",
    "version": 3
   },
   "file_extension": ".py",
   "mimetype": "text/x-python",
   "name": "python",
   "nbconvert_exporter": "python",
   "pygments_lexer": "ipython3",
   "version": "3.6.3"
  }
 },
 "nbformat": 4,
 "nbformat_minor": 2
}

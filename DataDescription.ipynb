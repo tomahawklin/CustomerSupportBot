{
 "cells": [
  {
   "cell_type": "code",
   "execution_count": 100,
   "metadata": {
    "collapsed": true
   },
   "outputs": [],
   "source": [
    "import pandas as pd\n",
    "import re\n",
    "import numpy as np\n",
    "import datetime as dt\n",
    "import matplotlib.pyplot as plt\n",
    "%matplotlib inline\n",
    "from sklearn.feature_extraction.text import CountVectorizer\n",
    "from sklearn.feature_extraction.text import TfidfVectorizer\n",
    "from sklearn.metrics.pairwise import cosine_similarity\n",
    "import pickle as pkl\n",
    "import random"
   ]
  },
  {
   "cell_type": "code",
   "execution_count": 32,
   "metadata": {
    "collapsed": true
   },
   "outputs": [],
   "source": [
    "df = pd.read_csv('twcs.csv')\n",
    "df['created_at'] = df['created_at'].apply(lambda x:dt.datetime.strptime(x,'%a %b %d %H:%M:%S +0000 %Y'))"
   ]
  },
  {
   "cell_type": "code",
   "execution_count": 3,
   "metadata": {},
   "outputs": [
    {
     "data": {
      "text/plain": [
       "(2811774, 7)"
      ]
     },
     "execution_count": 3,
     "metadata": {},
     "output_type": "execute_result"
    }
   ],
   "source": [
    "df.shape"
   ]
  },
  {
   "cell_type": "code",
   "execution_count": 4,
   "metadata": {},
   "outputs": [
    {
     "data": {
      "text/html": [
       "<div>\n",
       "<style>\n",
       "    .dataframe thead tr:only-child th {\n",
       "        text-align: right;\n",
       "    }\n",
       "\n",
       "    .dataframe thead th {\n",
       "        text-align: left;\n",
       "    }\n",
       "\n",
       "    .dataframe tbody tr th {\n",
       "        vertical-align: top;\n",
       "    }\n",
       "</style>\n",
       "<table border=\"1\" class=\"dataframe\">\n",
       "  <thead>\n",
       "    <tr style=\"text-align: right;\">\n",
       "      <th></th>\n",
       "      <th>tweet_id</th>\n",
       "      <th>author_id</th>\n",
       "      <th>inbound</th>\n",
       "      <th>created_at</th>\n",
       "      <th>text</th>\n",
       "      <th>response_tweet_id</th>\n",
       "      <th>in_response_to_tweet_id</th>\n",
       "    </tr>\n",
       "  </thead>\n",
       "  <tbody>\n",
       "    <tr>\n",
       "      <th>0</th>\n",
       "      <td>1</td>\n",
       "      <td>sprintcare</td>\n",
       "      <td>False</td>\n",
       "      <td>2017-10-31 22:10:47</td>\n",
       "      <td>@115712 I understand. I would like to assist y...</td>\n",
       "      <td>2</td>\n",
       "      <td>3.0</td>\n",
       "    </tr>\n",
       "    <tr>\n",
       "      <th>1</th>\n",
       "      <td>2</td>\n",
       "      <td>115712</td>\n",
       "      <td>True</td>\n",
       "      <td>2017-10-31 22:11:45</td>\n",
       "      <td>@sprintcare and how do you propose we do that</td>\n",
       "      <td>NaN</td>\n",
       "      <td>1.0</td>\n",
       "    </tr>\n",
       "    <tr>\n",
       "      <th>2</th>\n",
       "      <td>3</td>\n",
       "      <td>115712</td>\n",
       "      <td>True</td>\n",
       "      <td>2017-10-31 22:08:27</td>\n",
       "      <td>@sprintcare I have sent several private messag...</td>\n",
       "      <td>1</td>\n",
       "      <td>4.0</td>\n",
       "    </tr>\n",
       "    <tr>\n",
       "      <th>3</th>\n",
       "      <td>4</td>\n",
       "      <td>sprintcare</td>\n",
       "      <td>False</td>\n",
       "      <td>2017-10-31 21:54:49</td>\n",
       "      <td>@115712 Please send us a Private Message so th...</td>\n",
       "      <td>3</td>\n",
       "      <td>5.0</td>\n",
       "    </tr>\n",
       "    <tr>\n",
       "      <th>4</th>\n",
       "      <td>5</td>\n",
       "      <td>115712</td>\n",
       "      <td>True</td>\n",
       "      <td>2017-10-31 21:49:35</td>\n",
       "      <td>@sprintcare I did.</td>\n",
       "      <td>4</td>\n",
       "      <td>6.0</td>\n",
       "    </tr>\n",
       "    <tr>\n",
       "      <th>5</th>\n",
       "      <td>6</td>\n",
       "      <td>sprintcare</td>\n",
       "      <td>False</td>\n",
       "      <td>2017-10-31 21:46:24</td>\n",
       "      <td>@115712 Can you please send us a private messa...</td>\n",
       "      <td>5,7</td>\n",
       "      <td>8.0</td>\n",
       "    </tr>\n",
       "    <tr>\n",
       "      <th>6</th>\n",
       "      <td>8</td>\n",
       "      <td>115712</td>\n",
       "      <td>True</td>\n",
       "      <td>2017-10-31 21:45:10</td>\n",
       "      <td>@sprintcare is the worst customer service</td>\n",
       "      <td>9,6,10</td>\n",
       "      <td>NaN</td>\n",
       "    </tr>\n",
       "    <tr>\n",
       "      <th>7</th>\n",
       "      <td>11</td>\n",
       "      <td>sprintcare</td>\n",
       "      <td>False</td>\n",
       "      <td>2017-10-31 22:10:35</td>\n",
       "      <td>@115713 This is saddening to hear. Please shoo...</td>\n",
       "      <td>NaN</td>\n",
       "      <td>12.0</td>\n",
       "    </tr>\n",
       "    <tr>\n",
       "      <th>8</th>\n",
       "      <td>12</td>\n",
       "      <td>115713</td>\n",
       "      <td>True</td>\n",
       "      <td>2017-10-31 22:04:47</td>\n",
       "      <td>@sprintcare You gonna magically change your co...</td>\n",
       "      <td>11,13,14</td>\n",
       "      <td>15.0</td>\n",
       "    </tr>\n",
       "    <tr>\n",
       "      <th>9</th>\n",
       "      <td>15</td>\n",
       "      <td>sprintcare</td>\n",
       "      <td>False</td>\n",
       "      <td>2017-10-31 20:03:31</td>\n",
       "      <td>@115713 We understand your concerns and we'd l...</td>\n",
       "      <td>12</td>\n",
       "      <td>16.0</td>\n",
       "    </tr>\n",
       "  </tbody>\n",
       "</table>\n",
       "</div>"
      ],
      "text/plain": [
       "   tweet_id   author_id  inbound          created_at  \\\n",
       "0         1  sprintcare    False 2017-10-31 22:10:47   \n",
       "1         2      115712     True 2017-10-31 22:11:45   \n",
       "2         3      115712     True 2017-10-31 22:08:27   \n",
       "3         4  sprintcare    False 2017-10-31 21:54:49   \n",
       "4         5      115712     True 2017-10-31 21:49:35   \n",
       "5         6  sprintcare    False 2017-10-31 21:46:24   \n",
       "6         8      115712     True 2017-10-31 21:45:10   \n",
       "7        11  sprintcare    False 2017-10-31 22:10:35   \n",
       "8        12      115713     True 2017-10-31 22:04:47   \n",
       "9        15  sprintcare    False 2017-10-31 20:03:31   \n",
       "\n",
       "                                                text response_tweet_id  \\\n",
       "0  @115712 I understand. I would like to assist y...                 2   \n",
       "1      @sprintcare and how do you propose we do that               NaN   \n",
       "2  @sprintcare I have sent several private messag...                 1   \n",
       "3  @115712 Please send us a Private Message so th...                 3   \n",
       "4                                 @sprintcare I did.                 4   \n",
       "5  @115712 Can you please send us a private messa...               5,7   \n",
       "6          @sprintcare is the worst customer service            9,6,10   \n",
       "7  @115713 This is saddening to hear. Please shoo...               NaN   \n",
       "8  @sprintcare You gonna magically change your co...          11,13,14   \n",
       "9  @115713 We understand your concerns and we'd l...                12   \n",
       "\n",
       "   in_response_to_tweet_id  \n",
       "0                      3.0  \n",
       "1                      1.0  \n",
       "2                      4.0  \n",
       "3                      5.0  \n",
       "4                      6.0  \n",
       "5                      8.0  \n",
       "6                      NaN  \n",
       "7                     12.0  \n",
       "8                     15.0  \n",
       "9                     16.0  "
      ]
     },
     "execution_count": 4,
     "metadata": {},
     "output_type": "execute_result"
    }
   ],
   "source": [
    "df.head(10)"
   ]
  },
  {
   "cell_type": "code",
   "execution_count": 5,
   "metadata": {},
   "outputs": [
    {
     "data": {
      "text/html": [
       "<div>\n",
       "<style>\n",
       "    .dataframe thead tr:only-child th {\n",
       "        text-align: right;\n",
       "    }\n",
       "\n",
       "    .dataframe thead th {\n",
       "        text-align: left;\n",
       "    }\n",
       "\n",
       "    .dataframe tbody tr th {\n",
       "        vertical-align: top;\n",
       "    }\n",
       "</style>\n",
       "<table border=\"1\" class=\"dataframe\">\n",
       "  <thead>\n",
       "    <tr style=\"text-align: right;\">\n",
       "      <th></th>\n",
       "      <th>tweet_id</th>\n",
       "      <th>author_id</th>\n",
       "      <th>inbound</th>\n",
       "      <th>created_at</th>\n",
       "      <th>text</th>\n",
       "      <th>response_tweet_id</th>\n",
       "      <th>in_response_to_tweet_id</th>\n",
       "    </tr>\n",
       "  </thead>\n",
       "  <tbody>\n",
       "    <tr>\n",
       "      <th>6</th>\n",
       "      <td>8</td>\n",
       "      <td>115712</td>\n",
       "      <td>True</td>\n",
       "      <td>2017-10-31 21:45:10</td>\n",
       "      <td>@sprintcare is the worst customer service</td>\n",
       "      <td>9,6,10</td>\n",
       "      <td>NaN</td>\n",
       "    </tr>\n",
       "    <tr>\n",
       "      <th>2314174</th>\n",
       "      <td>10</td>\n",
       "      <td>sprintcare</td>\n",
       "      <td>False</td>\n",
       "      <td>2017-10-31 21:45:59</td>\n",
       "      <td>@115712 Hello! We never like our customers to ...</td>\n",
       "      <td>NaN</td>\n",
       "      <td>8.0</td>\n",
       "    </tr>\n",
       "    <tr>\n",
       "      <th>2314166</th>\n",
       "      <td>9</td>\n",
       "      <td>sprintcare</td>\n",
       "      <td>False</td>\n",
       "      <td>2017-10-31 21:46:14</td>\n",
       "      <td>@115712 I would love the chance to review the ...</td>\n",
       "      <td>NaN</td>\n",
       "      <td>8.0</td>\n",
       "    </tr>\n",
       "    <tr>\n",
       "      <th>5</th>\n",
       "      <td>6</td>\n",
       "      <td>sprintcare</td>\n",
       "      <td>False</td>\n",
       "      <td>2017-10-31 21:46:24</td>\n",
       "      <td>@115712 Can you please send us a private messa...</td>\n",
       "      <td>5,7</td>\n",
       "      <td>8.0</td>\n",
       "    </tr>\n",
       "    <tr>\n",
       "      <th>2314173</th>\n",
       "      <td>7</td>\n",
       "      <td>115712</td>\n",
       "      <td>True</td>\n",
       "      <td>2017-10-31 21:47:48</td>\n",
       "      <td>@sprintcare the only way I can get a response ...</td>\n",
       "      <td>NaN</td>\n",
       "      <td>6.0</td>\n",
       "    </tr>\n",
       "    <tr>\n",
       "      <th>4</th>\n",
       "      <td>5</td>\n",
       "      <td>115712</td>\n",
       "      <td>True</td>\n",
       "      <td>2017-10-31 21:49:35</td>\n",
       "      <td>@sprintcare I did.</td>\n",
       "      <td>4</td>\n",
       "      <td>6.0</td>\n",
       "    </tr>\n",
       "    <tr>\n",
       "      <th>3</th>\n",
       "      <td>4</td>\n",
       "      <td>sprintcare</td>\n",
       "      <td>False</td>\n",
       "      <td>2017-10-31 21:54:49</td>\n",
       "      <td>@115712 Please send us a Private Message so th...</td>\n",
       "      <td>3</td>\n",
       "      <td>5.0</td>\n",
       "    </tr>\n",
       "    <tr>\n",
       "      <th>2</th>\n",
       "      <td>3</td>\n",
       "      <td>115712</td>\n",
       "      <td>True</td>\n",
       "      <td>2017-10-31 22:08:27</td>\n",
       "      <td>@sprintcare I have sent several private messag...</td>\n",
       "      <td>1</td>\n",
       "      <td>4.0</td>\n",
       "    </tr>\n",
       "    <tr>\n",
       "      <th>0</th>\n",
       "      <td>1</td>\n",
       "      <td>sprintcare</td>\n",
       "      <td>False</td>\n",
       "      <td>2017-10-31 22:10:47</td>\n",
       "      <td>@115712 I understand. I would like to assist y...</td>\n",
       "      <td>2</td>\n",
       "      <td>3.0</td>\n",
       "    </tr>\n",
       "    <tr>\n",
       "      <th>1</th>\n",
       "      <td>2</td>\n",
       "      <td>115712</td>\n",
       "      <td>True</td>\n",
       "      <td>2017-10-31 22:11:45</td>\n",
       "      <td>@sprintcare and how do you propose we do that</td>\n",
       "      <td>NaN</td>\n",
       "      <td>1.0</td>\n",
       "    </tr>\n",
       "  </tbody>\n",
       "</table>\n",
       "</div>"
      ],
      "text/plain": [
       "         tweet_id   author_id  inbound          created_at  \\\n",
       "6               8      115712     True 2017-10-31 21:45:10   \n",
       "2314174        10  sprintcare    False 2017-10-31 21:45:59   \n",
       "2314166         9  sprintcare    False 2017-10-31 21:46:14   \n",
       "5               6  sprintcare    False 2017-10-31 21:46:24   \n",
       "2314173         7      115712     True 2017-10-31 21:47:48   \n",
       "4               5      115712     True 2017-10-31 21:49:35   \n",
       "3               4  sprintcare    False 2017-10-31 21:54:49   \n",
       "2               3      115712     True 2017-10-31 22:08:27   \n",
       "0               1  sprintcare    False 2017-10-31 22:10:47   \n",
       "1               2      115712     True 2017-10-31 22:11:45   \n",
       "\n",
       "                                                      text response_tweet_id  \\\n",
       "6                @sprintcare is the worst customer service            9,6,10   \n",
       "2314174  @115712 Hello! We never like our customers to ...               NaN   \n",
       "2314166  @115712 I would love the chance to review the ...               NaN   \n",
       "5        @115712 Can you please send us a private messa...               5,7   \n",
       "2314173  @sprintcare the only way I can get a response ...               NaN   \n",
       "4                                       @sprintcare I did.                 4   \n",
       "3        @115712 Please send us a Private Message so th...                 3   \n",
       "2        @sprintcare I have sent several private messag...                 1   \n",
       "0        @115712 I understand. I would like to assist y...                 2   \n",
       "1            @sprintcare and how do you propose we do that               NaN   \n",
       "\n",
       "         in_response_to_tweet_id  \n",
       "6                            NaN  \n",
       "2314174                      8.0  \n",
       "2314166                      8.0  \n",
       "5                            8.0  \n",
       "2314173                      6.0  \n",
       "4                            6.0  \n",
       "3                            5.0  \n",
       "2                            4.0  \n",
       "0                            3.0  \n",
       "1                            1.0  "
      ]
     },
     "execution_count": 5,
     "metadata": {},
     "output_type": "execute_result"
    }
   ],
   "source": [
    "df[df['tweet_id'].isin(list(range(11)))].sort_values(by='created_at')"
   ]
  },
  {
   "cell_type": "code",
   "execution_count": 6,
   "metadata": {
    "collapsed": true
   },
   "outputs": [],
   "source": [
    "names = [t for t in set(df['author_id'].tolist()) if re.search('[a-zA-Z]', t)]"
   ]
  },
  {
   "cell_type": "code",
   "execution_count": 7,
   "metadata": {},
   "outputs": [
    {
     "data": {
      "text/plain": [
       "108"
      ]
     },
     "execution_count": 7,
     "metadata": {},
     "output_type": "execute_result"
    }
   ],
   "source": [
    "len(names)"
   ]
  },
  {
   "cell_type": "code",
   "execution_count": 8,
   "metadata": {},
   "outputs": [
    {
     "name": "stdout",
     "output_type": "stream",
     "text": [
      "True\n",
      "True\n"
     ]
    }
   ],
   "source": [
    "print(df[(df['author_id'].isin(names)) & (df['inbound'] == True)].shape[0] == 0)\n",
    "print(df[~(df['author_id'].isin(names)) & (df['inbound'] == False)].shape[0] == 0)"
   ]
  },
  {
   "cell_type": "code",
   "execution_count": 9,
   "metadata": {},
   "outputs": [
    {
     "name": "stdout",
     "output_type": "stream",
     "text": [
      "1273931\n",
      "1537843\n"
     ]
    }
   ],
   "source": [
    "print(df[(df['author_id'].isin(names))].shape[0])\n",
    "print(df[~(df['author_id'].isin(names))].shape[0])"
   ]
  },
  {
   "cell_type": "code",
   "execution_count": 10,
   "metadata": {},
   "outputs": [
    {
     "data": {
      "text/plain": [
       "0.4530701969646209"
      ]
     },
     "execution_count": 10,
     "metadata": {},
     "output_type": "execute_result"
    }
   ],
   "source": [
    "# Ratio of tweets posted by customer\n",
    "1273931/2811774"
   ]
  },
  {
   "cell_type": "code",
   "execution_count": 12,
   "metadata": {},
   "outputs": [],
   "source": [
    "df_comp = df[df['author_id'].isin(names)]\n",
    "agg_comp = df_comp[['tweet_id','author_id']].groupby(by=['author_id'], as_index=False).agg(['count'])\n",
    "agg_comp.columns = agg_comp.columns.droplevel(0)\n",
    "agg_comp = agg_comp.reset_index()\n",
    "sort_df = agg_comp.sort_values(by='count',ascending=False)"
   ]
  },
  {
   "cell_type": "code",
   "execution_count": 13,
   "metadata": {},
   "outputs": [
    {
     "data": {
      "text/html": [
       "<div>\n",
       "<style>\n",
       "    .dataframe thead tr:only-child th {\n",
       "        text-align: right;\n",
       "    }\n",
       "\n",
       "    .dataframe thead th {\n",
       "        text-align: left;\n",
       "    }\n",
       "\n",
       "    .dataframe tbody tr th {\n",
       "        vertical-align: top;\n",
       "    }\n",
       "</style>\n",
       "<table border=\"1\" class=\"dataframe\">\n",
       "  <thead>\n",
       "    <tr style=\"text-align: right;\">\n",
       "      <th></th>\n",
       "      <th>author_id</th>\n",
       "      <th>count</th>\n",
       "    </tr>\n",
       "  </thead>\n",
       "  <tbody>\n",
       "    <tr>\n",
       "      <th>8</th>\n",
       "      <td>AmazonHelp</td>\n",
       "      <td>169840</td>\n",
       "    </tr>\n",
       "    <tr>\n",
       "      <th>10</th>\n",
       "      <td>AppleSupport</td>\n",
       "      <td>106860</td>\n",
       "    </tr>\n",
       "    <tr>\n",
       "      <th>85</th>\n",
       "      <td>Uber_Support</td>\n",
       "      <td>56270</td>\n",
       "    </tr>\n",
       "    <tr>\n",
       "      <th>77</th>\n",
       "      <td>SpotifyCares</td>\n",
       "      <td>43265</td>\n",
       "    </tr>\n",
       "    <tr>\n",
       "      <th>40</th>\n",
       "      <td>Delta</td>\n",
       "      <td>42253</td>\n",
       "    </tr>\n",
       "    <tr>\n",
       "      <th>80</th>\n",
       "      <td>Tesco</td>\n",
       "      <td>38573</td>\n",
       "    </tr>\n",
       "    <tr>\n",
       "      <th>9</th>\n",
       "      <td>AmericanAir</td>\n",
       "      <td>36764</td>\n",
       "    </tr>\n",
       "    <tr>\n",
       "      <th>78</th>\n",
       "      <td>TMobileHelp</td>\n",
       "      <td>34317</td>\n",
       "    </tr>\n",
       "    <tr>\n",
       "      <th>99</th>\n",
       "      <td>comcastcares</td>\n",
       "      <td>33031</td>\n",
       "    </tr>\n",
       "    <tr>\n",
       "      <th>33</th>\n",
       "      <td>British_Airways</td>\n",
       "      <td>29361</td>\n",
       "    </tr>\n",
       "  </tbody>\n",
       "</table>\n",
       "</div>"
      ],
      "text/plain": [
       "          author_id   count\n",
       "8        AmazonHelp  169840\n",
       "10     AppleSupport  106860\n",
       "85     Uber_Support   56270\n",
       "77     SpotifyCares   43265\n",
       "40            Delta   42253\n",
       "80            Tesco   38573\n",
       "9       AmericanAir   36764\n",
       "78      TMobileHelp   34317\n",
       "99     comcastcares   33031\n",
       "33  British_Airways   29361"
      ]
     },
     "execution_count": 13,
     "metadata": {},
     "output_type": "execute_result"
    }
   ],
   "source": [
    "# Top 10 most active companies\n",
    "sort_df.head(10)"
   ]
  },
  {
   "cell_type": "code",
   "execution_count": 14,
   "metadata": {},
   "outputs": [
    {
     "data": {
      "text/html": [
       "<div>\n",
       "<style>\n",
       "    .dataframe thead tr:only-child th {\n",
       "        text-align: right;\n",
       "    }\n",
       "\n",
       "    .dataframe thead th {\n",
       "        text-align: left;\n",
       "    }\n",
       "\n",
       "    .dataframe tbody tr th {\n",
       "        vertical-align: top;\n",
       "    }\n",
       "</style>\n",
       "<table border=\"1\" class=\"dataframe\">\n",
       "  <thead>\n",
       "    <tr style=\"text-align: right;\">\n",
       "      <th></th>\n",
       "      <th>author_id</th>\n",
       "      <th>count</th>\n",
       "    </tr>\n",
       "  </thead>\n",
       "  <tbody>\n",
       "    <tr>\n",
       "      <th>59</th>\n",
       "      <td>MOO</td>\n",
       "      <td>630</td>\n",
       "    </tr>\n",
       "    <tr>\n",
       "      <th>95</th>\n",
       "      <td>ask_progressive</td>\n",
       "      <td>612</td>\n",
       "    </tr>\n",
       "    <tr>\n",
       "      <th>56</th>\n",
       "      <td>KeyBank_Help</td>\n",
       "      <td>555</td>\n",
       "    </tr>\n",
       "    <tr>\n",
       "      <th>21</th>\n",
       "      <td>AskRobinhood</td>\n",
       "      <td>432</td>\n",
       "    </tr>\n",
       "    <tr>\n",
       "      <th>103</th>\n",
       "      <td>mediatemplehelp</td>\n",
       "      <td>305</td>\n",
       "    </tr>\n",
       "    <tr>\n",
       "      <th>53</th>\n",
       "      <td>JackBox</td>\n",
       "      <td>266</td>\n",
       "    </tr>\n",
       "    <tr>\n",
       "      <th>69</th>\n",
       "      <td>OfficeSupport</td>\n",
       "      <td>218</td>\n",
       "    </tr>\n",
       "    <tr>\n",
       "      <th>15</th>\n",
       "      <td>AskDSC</td>\n",
       "      <td>210</td>\n",
       "    </tr>\n",
       "    <tr>\n",
       "      <th>34</th>\n",
       "      <td>CarlsJr</td>\n",
       "      <td>196</td>\n",
       "    </tr>\n",
       "    <tr>\n",
       "      <th>51</th>\n",
       "      <td>HotelTonightCX</td>\n",
       "      <td>152</td>\n",
       "    </tr>\n",
       "  </tbody>\n",
       "</table>\n",
       "</div>"
      ],
      "text/plain": [
       "           author_id  count\n",
       "59               MOO    630\n",
       "95   ask_progressive    612\n",
       "56      KeyBank_Help    555\n",
       "21      AskRobinhood    432\n",
       "103  mediatemplehelp    305\n",
       "53           JackBox    266\n",
       "69     OfficeSupport    218\n",
       "15            AskDSC    210\n",
       "34           CarlsJr    196\n",
       "51    HotelTonightCX    152"
      ]
     },
     "execution_count": 14,
     "metadata": {},
     "output_type": "execute_result"
    }
   ],
   "source": [
    "# Top 10 least active companies\n",
    "sort_df.tail(10)"
   ]
  },
  {
   "cell_type": "code",
   "execution_count": 15,
   "metadata": {},
   "outputs": [
    {
     "data": {
      "text/plain": [
       "[]"
      ]
     },
     "execution_count": 15,
     "metadata": {},
     "output_type": "execute_result"
    }
   ],
   "source": [
    "# Check every in_response_to_tweet_id only contains one float value \n",
    "[t for t in df.in_response_to_tweet_id.tolist() if not isinstance(t, float)]"
   ]
  },
  {
   "cell_type": "code",
   "execution_count": 16,
   "metadata": {},
   "outputs": [
    {
     "data": {
      "text/plain": [
       "794335"
      ]
     },
     "execution_count": 16,
     "metadata": {},
     "output_type": "execute_result"
    }
   ],
   "source": [
    "# Number of dialogue\n",
    "df.in_response_to_tweet_id.isnull().sum()"
   ]
  },
  {
   "cell_type": "code",
   "execution_count": 205,
   "metadata": {
    "collapsed": true
   },
   "outputs": [],
   "source": [
    "amaz_df = df[df['author_id'] == 'AmazonHelp']"
   ]
  },
  {
   "cell_type": "code",
   "execution_count": 208,
   "metadata": {},
   "outputs": [
    {
     "data": {
      "text/html": [
       "<div>\n",
       "<style>\n",
       "    .dataframe thead tr:only-child th {\n",
       "        text-align: right;\n",
       "    }\n",
       "\n",
       "    .dataframe thead th {\n",
       "        text-align: left;\n",
       "    }\n",
       "\n",
       "    .dataframe tbody tr th {\n",
       "        vertical-align: top;\n",
       "    }\n",
       "</style>\n",
       "<table border=\"1\" class=\"dataframe\">\n",
       "  <thead>\n",
       "    <tr style=\"text-align: right;\">\n",
       "      <th></th>\n",
       "      <th>tweet_id</th>\n",
       "      <th>author_id</th>\n",
       "      <th>inbound</th>\n",
       "      <th>created_at</th>\n",
       "      <th>text</th>\n",
       "      <th>response_tweet_id</th>\n",
       "      <th>in_response_to_tweet_id</th>\n",
       "    </tr>\n",
       "  </thead>\n",
       "  <tbody>\n",
       "    <tr>\n",
       "      <th>181</th>\n",
       "      <td>269</td>\n",
       "      <td>AmazonHelp</td>\n",
       "      <td>False</td>\n",
       "      <td>2017-11-22 09:23:01</td>\n",
       "      <td>@115770 こんにちは、アマゾン公式です。Fire TV Stickが見れないというのは...</td>\n",
       "      <td>270,271</td>\n",
       "      <td>272.0</td>\n",
       "    </tr>\n",
       "    <tr>\n",
       "      <th>184</th>\n",
       "      <td>273</td>\n",
       "      <td>AmazonHelp</td>\n",
       "      <td>False</td>\n",
       "      <td>2017-11-22 09:40:27</td>\n",
       "      <td>@115770 カスタマーサービスにてお問い合わせ済みとのことで、お手数をおかけいたしました...</td>\n",
       "      <td>274</td>\n",
       "      <td>271.0</td>\n",
       "    </tr>\n",
       "    <tr>\n",
       "      <th>186</th>\n",
       "      <td>275</td>\n",
       "      <td>AmazonHelp</td>\n",
       "      <td>False</td>\n",
       "      <td>2017-11-22 10:06:26</td>\n",
       "      <td>@115770 恐れ入ります。至らない点も多々あるかとは存じますが、今後ともどうぞよろしくお...</td>\n",
       "      <td>NaN</td>\n",
       "      <td>274.0</td>\n",
       "    </tr>\n",
       "    <tr>\n",
       "      <th>234</th>\n",
       "      <td>324</td>\n",
       "      <td>AmazonHelp</td>\n",
       "      <td>False</td>\n",
       "      <td>2017-11-22 09:06:00</td>\n",
       "      <td>@115792 ご不便をおかけしております。アプリをご利用でしょうか。強制停止&amp;gt;端末の...</td>\n",
       "      <td>NaN</td>\n",
       "      <td>325.0</td>\n",
       "    </tr>\n",
       "    <tr>\n",
       "      <th>321</th>\n",
       "      <td>615</td>\n",
       "      <td>AmazonHelp</td>\n",
       "      <td>False</td>\n",
       "      <td>2017-10-31 22:29:00</td>\n",
       "      <td>@115820 I'm sorry we've let you down! Without ...</td>\n",
       "      <td>616</td>\n",
       "      <td>617.0</td>\n",
       "    </tr>\n",
       "  </tbody>\n",
       "</table>\n",
       "</div>"
      ],
      "text/plain": [
       "     tweet_id   author_id  inbound          created_at  \\\n",
       "181       269  AmazonHelp    False 2017-11-22 09:23:01   \n",
       "184       273  AmazonHelp    False 2017-11-22 09:40:27   \n",
       "186       275  AmazonHelp    False 2017-11-22 10:06:26   \n",
       "234       324  AmazonHelp    False 2017-11-22 09:06:00   \n",
       "321       615  AmazonHelp    False 2017-10-31 22:29:00   \n",
       "\n",
       "                                                  text response_tweet_id  \\\n",
       "181  @115770 こんにちは、アマゾン公式です。Fire TV Stickが見れないというのは...           270,271   \n",
       "184  @115770 カスタマーサービスにてお問い合わせ済みとのことで、お手数をおかけいたしました...               274   \n",
       "186  @115770 恐れ入ります。至らない点も多々あるかとは存じますが、今後ともどうぞよろしくお...               NaN   \n",
       "234  @115792 ご不便をおかけしております。アプリをご利用でしょうか。強制停止&gt;端末の...               NaN   \n",
       "321  @115820 I'm sorry we've let you down! Without ...               616   \n",
       "\n",
       "     in_response_to_tweet_id  \n",
       "181                    272.0  \n",
       "184                    271.0  \n",
       "186                    274.0  \n",
       "234                    325.0  \n",
       "321                    617.0  "
      ]
     },
     "execution_count": 208,
     "metadata": {},
     "output_type": "execute_result"
    }
   ],
   "source": [
    "amaz_df.head()"
   ]
  },
  {
   "cell_type": "markdown",
   "metadata": {},
   "source": [
    "## Structure Data"
   ]
  },
  {
   "cell_type": "code",
   "execution_count": 328,
   "metadata": {},
   "outputs": [
    {
     "data": {
      "text/html": [
       "<div>\n",
       "<style>\n",
       "    .dataframe thead tr:only-child th {\n",
       "        text-align: right;\n",
       "    }\n",
       "\n",
       "    .dataframe thead th {\n",
       "        text-align: left;\n",
       "    }\n",
       "\n",
       "    .dataframe tbody tr th {\n",
       "        vertical-align: top;\n",
       "    }\n",
       "</style>\n",
       "<table border=\"1\" class=\"dataframe\">\n",
       "  <thead>\n",
       "    <tr style=\"text-align: right;\">\n",
       "      <th></th>\n",
       "      <th>author_id</th>\n",
       "      <th>created_at</th>\n",
       "      <th>text</th>\n",
       "    </tr>\n",
       "  </thead>\n",
       "  <tbody>\n",
       "    <tr>\n",
       "      <th>756</th>\n",
       "      <td>115951</td>\n",
       "      <td>2017-10-31 22:22:31</td>\n",
       "      <td>@115913 I'm a #TMobile customer getting the ru...</td>\n",
       "    </tr>\n",
       "    <tr>\n",
       "      <th>1824751</th>\n",
       "      <td>TMobileHelp</td>\n",
       "      <td>2017-10-31 22:23:27</td>\n",
       "      <td>@115951 @115913 We always want to keep you con...</td>\n",
       "    </tr>\n",
       "    <tr>\n",
       "      <th>757</th>\n",
       "      <td>sprintcare</td>\n",
       "      <td>2017-10-31 22:24:30</td>\n",
       "      <td>@115951 Hello please go to the link I will nee...</td>\n",
       "    </tr>\n",
       "    <tr>\n",
       "      <th>755</th>\n",
       "      <td>sprintcare</td>\n",
       "      <td>2017-10-31 22:25:24</td>\n",
       "      <td>@115951 Get started here: https://t.co/dYSbRQ3...</td>\n",
       "    </tr>\n",
       "  </tbody>\n",
       "</table>\n",
       "</div>"
      ],
      "text/plain": [
       "           author_id          created_at                                               text\n",
       "756           115951 2017-10-31 22:22:31  @115913 I'm a #TMobile customer getting the ru...\n",
       "1824751  TMobileHelp 2017-10-31 22:23:27  @115951 @115913 We always want to keep you con...\n",
       "757       sprintcare 2017-10-31 22:24:30  @115951 Hello please go to the link I will nee...\n",
       "755       sprintcare 2017-10-31 22:25:24  @115951 Get started here: https://t.co/dYSbRQ3..."
      ]
     },
     "execution_count": 328,
     "metadata": {},
     "output_type": "execute_result"
    }
   ],
   "source": [
    "df[df.tweet_id.isin([1299, 1298, 1300, 1301])].sort_values(by='created_at')[['author_id','created_at','text']]"
   ]
  },
  {
   "cell_type": "code",
   "execution_count": 17,
   "metadata": {
    "collapsed": true
   },
   "outputs": [],
   "source": [
    "class tweet(object):\n",
    "    \"\"\"\n",
    "    An object that holds a single tweet\n",
    "    \"\"\"\n",
    "    def __init__(self, df_row):\n",
    "        self.tweet_id = df_row.tweet_id\n",
    "        self.author_id = df_row.author_id\n",
    "        self.created_at = df_row.created_at\n",
    "        self.text = df_row.text\n",
    "        self.response_tweet_id = df_row.response_tweet_id\n",
    "        self.in_response_to_tweet_id = df_row.in_response_to_tweet_id"
   ]
  },
  {
   "cell_type": "code",
   "execution_count": 18,
   "metadata": {
    "collapsed": true
   },
   "outputs": [],
   "source": [
    "class dialogue(object):\n",
    "    \"\"\"\n",
    "    A structured object that organizes dialogue between customer and company agent\n",
    "    \"\"\"\n",
    "    def __init__(self, init_tweet):\n",
    "        self.tweets = [init_tweet]\n",
    "        self.ids = {init_tweet.tweet_id}\n",
    "        self.company = None"
   ]
  },
  {
   "cell_type": "code",
   "execution_count": 34,
   "metadata": {},
   "outputs": [
    {
     "name": "stdout",
     "output_type": "stream",
     "text": [
      "finished 0 rows\n",
      "finished 100000 rows\n",
      "finished 200000 rows\n",
      "finished 300000 rows\n",
      "finished 400000 rows\n",
      "finished 500000 rows\n",
      "finished 600000 rows\n",
      "finished 700000 rows\n",
      "finished 800000 rows\n",
      "finished 900000 rows\n",
      "finished 1000000 rows\n",
      "finished 1100000 rows\n",
      "finished 1200000 rows\n",
      "finished 1300000 rows\n",
      "finished 1400000 rows\n",
      "finished 1500000 rows\n",
      "finished 1600000 rows\n",
      "finished 1700000 rows\n",
      "finished 1800000 rows\n",
      "finished 1900000 rows\n",
      "finished 2000000 rows\n",
      "finished 2100000 rows\n",
      "finished 2200000 rows\n",
      "finished 2300000 rows\n",
      "finished 2400000 rows\n",
      "finished 2500000 rows\n",
      "finished 2600000 rows\n",
      "finished 2700000 rows\n",
      "finished 2800000 rows\n",
      "2811774\n",
      "2811774\n"
     ]
    }
   ],
   "source": [
    "candidate = {}\n",
    "heap = []\n",
    "\n",
    "for i in df.index.values:\n",
    "    if i % 100000 == 0:\n",
    "        print('finished %d rows' % i)\n",
    "    t = tweet(df.loc[i])\n",
    "    key = t.in_response_to_tweet_id\n",
    "    if np.isnan(key):\n",
    "        heap.append(dialogue(t))\n",
    "    else:\n",
    "        if key in candidate:\n",
    "            candidate[key].append(t)\n",
    "        else:\n",
    "            candidate[key] = [t]\n",
    "\n",
    "# These two numbers should equal\n",
    "print(len(heap) + sum([len(candidate[k]) for k in candidate]))\n",
    "print(df.shape[0])"
   ]
  },
  {
   "cell_type": "code",
   "execution_count": 35,
   "metadata": {
    "collapsed": true
   },
   "outputs": [],
   "source": [
    "# Assign candidate tweets to dialogues\n",
    "for i in range(len(heap)):\n",
    "    h = heap[i]\n",
    "    waiting = {h.tweets[0].tweet_id}\n",
    "    while len(waiting) > 0:\n",
    "        tmp_waiting = []\n",
    "        for idx in waiting:\n",
    "            try:\n",
    "                tmp_list = candidate[float(idx)]\n",
    "                h.tweets += tmp_list\n",
    "                h.ids.update([t.tweet_id for t in tmp_list])\n",
    "                tmp_waiting += [t.tweet_id for t in tmp_list]\n",
    "                del candidate[float(idx)]\n",
    "            except:\n",
    "                pass\n",
    "        waiting = set(tmp_waiting)"
   ]
  },
  {
   "cell_type": "code",
   "execution_count": 36,
   "metadata": {},
   "outputs": [
    {
     "data": {
      "text/plain": [
       "794335"
      ]
     },
     "execution_count": 36,
     "metadata": {},
     "output_type": "execute_result"
    }
   ],
   "source": [
    "len(heap)"
   ]
  },
  {
   "cell_type": "code",
   "execution_count": 37,
   "metadata": {},
   "outputs": [],
   "source": [
    "length = [len(h.tweets) for h in heap]"
   ]
  },
  {
   "cell_type": "code",
   "execution_count": 38,
   "metadata": {
    "scrolled": true
   },
   "outputs": [
    {
     "data": {
      "text/plain": [
       "(array([  7.94233000e+05,   7.20000000e+01,   1.60000000e+01,\n",
       "          7.00000000e+00,   3.00000000e+00,   1.00000000e+00,\n",
       "          0.00000000e+00,   2.00000000e+00,   0.00000000e+00,\n",
       "          1.00000000e+00]),\n",
       " array([    2. ,   140.8,   279.6,   418.4,   557.2,   696. ,   834.8,\n",
       "          973.6,  1112.4,  1251.2,  1390. ]),\n",
       " <a list of 10 Patch objects>)"
      ]
     },
     "execution_count": 38,
     "metadata": {},
     "output_type": "execute_result"
    },
    {
     "data": {
      "image/png": "[encoded data removed]",
      "text/plain": [
       "<matplotlib.figure.Figure at 0x1f2bcc240>"
      ]
     },
     "metadata": {},
     "output_type": "display_data"
    }
   ],
   "source": [
    "plt.hist(length)"
   ]
  },
  {
   "cell_type": "code",
   "execution_count": 42,
   "metadata": {},
   "outputs": [
    {
     "data": {
      "text/plain": [
       "3.5197555187672709"
      ]
     },
     "execution_count": 42,
     "metadata": {},
     "output_type": "execute_result"
    }
   ],
   "source": [
    "# Number of tweets in a conversation on average\n",
    "np.mean([len(h.tweets) for h in heap])"
   ]
  },
  {
   "cell_type": "code",
   "execution_count": 43,
   "metadata": {},
   "outputs": [
    {
     "data": {
      "text/plain": [
       "2"
      ]
     },
     "execution_count": 43,
     "metadata": {},
     "output_type": "execute_result"
    }
   ],
   "source": [
    "min([len(h.tweets) for h in heap])"
   ]
  },
  {
   "cell_type": "code",
   "execution_count": 44,
   "metadata": {},
   "outputs": [
    {
     "data": {
      "text/plain": [
       "0.5466031334386625"
      ]
     },
     "execution_count": 44,
     "metadata": {},
     "output_type": "execute_result"
    }
   ],
   "source": [
    "len([1 for h in heap if len(h.tweets) == 2])/len(heap)"
   ]
  },
  {
   "cell_type": "code",
   "execution_count": 45,
   "metadata": {},
   "outputs": [
    {
     "data": {
      "text/plain": [
       "1390"
      ]
     },
     "execution_count": 45,
     "metadata": {},
     "output_type": "execute_result"
    }
   ],
   "source": [
    "max([len(h.tweets) for h in heap])"
   ]
  },
  {
   "cell_type": "code",
   "execution_count": 46,
   "metadata": {},
   "outputs": [
    {
     "data": {
      "text/plain": [
       "2.0"
      ]
     },
     "execution_count": 46,
     "metadata": {},
     "output_type": "execute_result"
    }
   ],
   "source": [
    "np.median([len(h.tweets) for h in heap])"
   ]
  },
  {
   "cell_type": "code",
   "execution_count": 29,
   "metadata": {
    "collapsed": true
   },
   "outputs": [],
   "source": [
    "def print_tweets(dialogue, show_id = True):\n",
    "    \"\"\"\n",
    "    Helper function to print tweets in a dialogue\n",
    "    \"\"\"\n",
    "    tweets = sorted(dialogue.tweets, key=lambda k: k.created_at) \n",
    "    for t in tweets:\n",
    "        if show_id:\n",
    "            print('tweet_id: %s, date: %s, author: %s, text: %s, response_tweet_id: %s, in_response_to_tweet_id: %s' % (t.tweet_id, str(t.created_at), t.author_id, t.text, str(t.response_tweet_id), str(t.in_response_to_tweet_id)))\n",
    "        else:\n",
    "            print('date: %s, author: %s, text: %s' % (str(t.created_at), t.author_id, t.text))\n"
   ]
  },
  {
   "cell_type": "code",
   "execution_count": 351,
   "metadata": {},
   "outputs": [
    {
     "data": {
      "text/plain": [
       "0.00012206750102490637"
      ]
     },
     "execution_count": 351,
     "metadata": {},
     "output_type": "execute_result"
    }
   ],
   "source": [
    "# Some of the dialogues suffer from loss of data\n",
    "count = 0\n",
    "for h in [_h for _h in heap if len(_h.tweets) == 2]:\n",
    "    t1, t2 = h.tweets\n",
    "    if t1.author_id in names or t2.author_id not in names:\n",
    "        count += 1\n",
    "        #print_tweets(h)\n",
    "count / len([_h for _h in heap if len(_h.tweets) == 2])"
   ]
  },
  {
   "cell_type": "code",
   "execution_count": 47,
   "metadata": {},
   "outputs": [
    {
     "data": {
      "text/plain": [
       "0.0038510200356272855"
      ]
     },
     "execution_count": 47,
     "metadata": {},
     "output_type": "execute_result"
    }
   ],
   "source": [
    "# How many dialogues have more than one companies participating\n",
    "count = 0\n",
    "s = set()\n",
    "for h in heap:\n",
    "    if len(set([t.author_id for t in h.tweets if t.author_id in names])) > 1:\n",
    "        count += 1\n",
    "        s.add(h)\n",
    "        #print_tweets(h)\n",
    "count / len(heap)"
   ]
  },
  {
   "cell_type": "code",
   "execution_count": 50,
   "metadata": {
    "collapsed": true
   },
   "outputs": [],
   "source": [
    "# Drop these cases\n",
    "heap = [h for h in heap if len(set([t.author_id for t in h.tweets if t.author_id in names])) == 1]"
   ]
  },
  {
   "cell_type": "code",
   "execution_count": 52,
   "metadata": {},
   "outputs": [],
   "source": [
    "# Assign company label to each dialogue\n",
    "for h in heap:\n",
    "    h.company = [t.author_id for t in h.tweets if t.author_id in names][0]"
   ]
  },
  {
   "cell_type": "code",
   "execution_count": 55,
   "metadata": {},
   "outputs": [],
   "source": [
    "airlines = [h for h in heap if h.company in ['Delta', 'AmericanAir', 'British_Airways']]"
   ]
  },
  {
   "cell_type": "code",
   "execution_count": 56,
   "metadata": {},
   "outputs": [
    {
     "data": {
      "text/plain": [
       "(array([ 25804.,      0.,      0.,      0.,      0.,  16303.,      0.,\n",
       "             0.,      0.,  25813.]),\n",
       " array([ 0. ,  0.2,  0.4,  0.6,  0.8,  1. ,  1.2,  1.4,  1.6,  1.8,  2. ]),\n",
       " <a list of 10 Patch objects>)"
      ]
     },
     "execution_count": 56,
     "metadata": {},
     "output_type": "execute_result"
    },
    {
     "data": {
      "image/png": "[encoded data removed]",
      "text/plain": [
       "<matplotlib.figure.Figure at 0x1e51aeb00>"
      ]
     },
     "metadata": {},
     "output_type": "display_data"
    }
   ],
   "source": [
    "plt.hist([h.company for h in airlines])"
   ]
  },
  {
   "cell_type": "code",
   "execution_count": 57,
   "metadata": {},
   "outputs": [
    {
     "data": {
      "text/plain": [
       "67920"
      ]
     },
     "execution_count": 57,
     "metadata": {},
     "output_type": "execute_result"
    }
   ],
   "source": [
    "# Number of dialogues in airline companies\n",
    "len(airlines)"
   ]
  },
  {
   "cell_type": "code",
   "execution_count": 58,
   "metadata": {
    "collapsed": true
   },
   "outputs": [],
   "source": [
    "length = [len(h.tweets) for h in airlines]"
   ]
  },
  {
   "cell_type": "code",
   "execution_count": 60,
   "metadata": {},
   "outputs": [
    {
     "data": {
      "text/plain": [
       "(array([  6.77920000e+04,   9.40000000e+01,   1.70000000e+01,\n",
       "          5.00000000e+00,   5.00000000e+00,   5.00000000e+00,\n",
       "          1.00000000e+00,   0.00000000e+00,   0.00000000e+00,\n",
       "          1.00000000e+00]),\n",
       " array([   2. ,   22.2,   42.4,   62.6,   82.8,  103. ,  123.2,  143.4,\n",
       "         163.6,  183.8,  204. ]),\n",
       " <a list of 10 Patch objects>)"
      ]
     },
     "execution_count": 60,
     "metadata": {},
     "output_type": "execute_result"
    },
    {
     "data": {
      "image/png": "[encoded data removed]",
      "text/plain": [
       "<matplotlib.figure.Figure at 0x1530ebb00>"
      ]
     },
     "metadata": {},
     "output_type": "display_data"
    }
   ],
   "source": [
    "plt.hist(length)"
   ]
  },
  {
   "cell_type": "code",
   "execution_count": 81,
   "metadata": {},
   "outputs": [
    {
     "data": {
      "text/plain": [
       "37383"
      ]
     },
     "execution_count": 81,
     "metadata": {},
     "output_type": "execute_result"
    }
   ],
   "source": [
    "# Simplify the dataset into question answering pairs\n",
    "# TODO: Filter out some long conversations that appear to be open discussions instead question answering.\n",
    "airlines_sim = [d for d in airlines if len(d.tweets) == 2]\n",
    "len(airlines_sim)"
   ]
  },
  {
   "cell_type": "code",
   "execution_count": null,
   "metadata": {},
   "outputs": [],
   "source": [
    "# For eye-ball checking\n",
    "'''\n",
    "for h in airlines:\n",
    "    if len(h.tweets) == 3 and h.tweets[-1].author_id in names:\n",
    "        print_tweets(h)\n",
    "        print('*'*10)\n",
    "'''"
   ]
  },
  {
   "cell_type": "code",
   "execution_count": 96,
   "metadata": {},
   "outputs": [
    {
     "data": {
      "text/plain": [
       "13681"
      ]
     },
     "execution_count": 96,
     "metadata": {},
     "output_type": "execute_result"
    }
   ],
   "source": [
    "# Further filter out non question answering conversation\n",
    "data = []\n",
    "for d in airlines_sim:\n",
    "    if any(s in d.tweets[0].text.lower() for s in ['how', 'when', 'what', 'where', 'who', 'which', '?']):\n",
    "        data.append(d)\n",
    "           \n",
    "len(data)"
   ]
  },
  {
   "cell_type": "code",
   "execution_count": 99,
   "metadata": {
    "collapsed": true
   },
   "outputs": [],
   "source": [
    "class vector_model(object):\n",
    "    \"\"\"\n",
    "    Object holding item to index map and item vectors\n",
    "    \"\"\"\n",
    "    def __init__(self, item_map, vectors):\n",
    "        self.item_map = item_map\n",
    "        self.vectors = vectors\n",
    "        self.num_items = vectors.shape[0]\n",
    "        self.dim = vectors.shape[1]\n",
    "    def get_nearest(self, candidate_vector, topk = 1, ex_self = True):\n",
    "        if candidate_vector.shape != (1, self.dim):\n",
    "            candidate_vector = candidate_vector.reshape(1, self.dim)\n",
    "        score = self.vectors.dot(candidate.T)\n",
    "        if score.shape != (self.num_items):\n",
    "            score = score.reshape(self.num_items)\n",
    "        top_index = score.argsort()[::-1][:topk].tolist()\n",
    "        return top_index"
   ]
  },
  {
   "cell_type": "code",
   "execution_count": 131,
   "metadata": {},
   "outputs": [],
   "source": [
    "train = []\n",
    "test = []\n",
    "for d in data:\n",
    "    if random.random() > 0.9:\n",
    "        test.append(d.tweets[0].text)\n",
    "    else:\n",
    "        train.append(d.tweets[0].text)"
   ]
  },
  {
   "cell_type": "code",
   "execution_count": 181,
   "metadata": {},
   "outputs": [],
   "source": [
    "item_map = {}\n",
    "cv = CountVectorizer(ngram_range = (1, 2), stop_words = 'english')\n",
    "vectors = cv.fit_transform(train).toarray()\n",
    "#vectors = []\n",
    "cnt = 0\n",
    "for t in train:\n",
    "    item_map[t] = cnt\n",
    "    cnt += 1\n",
    "    #vectors.append(cv.transform([t]).toarray()[0].tolist())"
   ]
  },
  {
   "cell_type": "code",
   "execution_count": null,
   "metadata": {
    "collapsed": true
   },
   "outputs": [],
   "source": []
  }
 ],
 "metadata": {
  "kernelspec": {
   "display_name": "Python 3",
   "language": "python",
   "name": "python3"
  },
  "language_info": {
   "codemirror_mode": {
    "name": "ipython",
    "version": 3
   },
   "file_extension": ".py",
   "mimetype": "text/x-python",
   "name": "python",
   "nbconvert_exporter": "python",
   "pygments_lexer": "ipython3",
   "version": "3.6.3"
  }
 },
 "nbformat": 4,
 "nbformat_minor": 2
}
